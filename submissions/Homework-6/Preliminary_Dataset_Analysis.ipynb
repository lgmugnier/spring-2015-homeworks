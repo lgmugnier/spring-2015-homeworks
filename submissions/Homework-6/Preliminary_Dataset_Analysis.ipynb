{
 "metadata": {
  "name": "",
  "signature": "sha256:b31d18cec3360d0e831aa26cc5ed89da8e523e8672309b447a59ebf88ce94fde"
 },
 "nbformat": 3,
 "nbformat_minor": 0,
 "worksheets": [
  {
   "cells": [
    {
     "cell_type": "heading",
     "level": 1,
     "metadata": {},
     "source": [
      "Preliminary Project Dataset Analysis"
     ]
    },
    {
     "cell_type": "markdown",
     "metadata": {},
     "source": [
      "For my project, I will be implementing my own intrusion detection system.  In order to create the best possible system, I will compare several data mining techniques such as k-means clustering and feature selection by time and effectiveness.\n",
      "The dataset I will be using for my project is the KDD Training and Testing datasets which can be found at http://iscx.ca/NSL-KDD/.  I will first analyze the KDDTrain+.txt data which I will use to for training and then I will analyze the KDDTest+.txt dataset which I will use to test the effectiveness of my detection system.  "
     ]
    },
    {
     "cell_type": "heading",
     "level": 3,
     "metadata": {},
     "source": [
      "Analysis of the KDDTrain+ and KDDTest+ Datasets"
     ]
    },
    {
     "cell_type": "code",
     "collapsed": false,
     "input": [
      "%matplotlib inline\n",
      "import pandas as pd\n",
      "import seaborn as sns\n",
      "from datetime import datetime\n",
      "from matplotlib import pyplot as plt"
     ],
     "language": "python",
     "metadata": {},
     "outputs": [],
     "prompt_number": 1
    },
    {
     "cell_type": "code",
     "collapsed": false,
     "input": [
      "train = pd.read_csv('KDDTrain+.txt')\n",
      "test = pd.read_csv('KDDTest+.txt')"
     ],
     "language": "python",
     "metadata": {},
     "outputs": [],
     "prompt_number": 2
    },
    {
     "cell_type": "code",
     "collapsed": false,
     "input": [
      "print train.info()"
     ],
     "language": "python",
     "metadata": {},
     "outputs": [
      {
       "output_type": "stream",
       "stream": "stdout",
       "text": [
        "<class 'pandas.core.frame.DataFrame'>\n",
        "Int64Index: 125973 entries, 0 to 125972\n",
        "Data columns (total 43 columns):\n",
        "duration                       125973 non-null int64\n",
        "protocol                       125973 non-null object\n",
        "service                        125973 non-null object\n",
        "flag                           125973 non-null object\n",
        "src_bytes                      125973 non-null int64\n",
        "dst_bytes                      125973 non-null int64\n",
        "land                           125973 non-null int64\n",
        "wrong_fragment                 125973 non-null int64\n",
        "urgent                         125973 non-null int64\n",
        "hot                            125973 non-null int64\n",
        "num_failed_logins              125973 non-null int64\n",
        "logged_in                      125973 non-null int64\n",
        "num_compromised                125973 non-null int64\n",
        "root_shell                     125973 non-null int64\n",
        "su_attempted                   125973 non-null int64\n",
        "num_root                       125973 non-null int64\n",
        "num_file_creations             125973 non-null int64\n",
        "num_shells                     125973 non-null int64\n",
        "num_access_files               125973 non-null int64\n",
        "num_outbound_cmds              125973 non-null int64\n",
        "is_host_login                  125973 non-null int64\n",
        "is_guest_login                 125973 non-null int64\n",
        "count                          125973 non-null int64\n",
        "srv_count                      125973 non-null int64\n",
        "serror_rate                    125973 non-null float64\n",
        "srv_serror_rate                125973 non-null float64\n",
        "rerror_rate                    125973 non-null float64\n",
        "srv_rerror_rate                125973 non-null float64\n",
        "same_srv_rate                  125973 non-null float64\n",
        "diff_srv_rate                  125973 non-null float64\n",
        "srv_diff_host_rate             125973 non-null float64\n",
        "dst_host_count                 125973 non-null int64\n",
        "dst_host_srv_count             125973 non-null int64\n",
        "dst_host_same_srv_rate         125973 non-null float64\n",
        "dst_host_diff_srv_rate         125973 non-null float64\n",
        "dst_host_same_src_port_rate    125973 non-null float64\n",
        "dst_host_diff_host_rate        125973 non-null float64\n",
        "dst_host_serror_rate           125973 non-null float64\n",
        "dst_host_srv_serror_rate       125973 non-null float64\n",
        "dst_host_rerror_rate           125973 non-null float64\n",
        "dst_host_srv_rerror_rate       125973 non-null float64\n",
        "class                          125973 non-null object\n",
        "difficulty                     125973 non-null int64\n",
        "dtypes: float64(15), int64(24), object(4)\n",
        "memory usage: 42.3+ MB\n",
        "None\n"
       ]
      }
     ],
     "prompt_number": 4
    },
    {
     "cell_type": "code",
     "collapsed": false,
     "input": [
      "print test.info()"
     ],
     "language": "python",
     "metadata": {},
     "outputs": [
      {
       "output_type": "stream",
       "stream": "stdout",
       "text": [
        "<class 'pandas.core.frame.DataFrame'>\n",
        "Int64Index: 22544 entries, 0 to 22543\n",
        "Data columns (total 43 columns):\n",
        "duration                       22544 non-null int64\n",
        "protocol                       22544 non-null object\n",
        "service                        22544 non-null object\n",
        "flag                           22544 non-null object\n",
        "src_bytes                      22544 non-null int64\n",
        "dst_bytes                      22544 non-null int64\n",
        "land                           22544 non-null int64\n",
        "wrong_fragment                 22544 non-null int64\n",
        "urgent                         22544 non-null int64\n",
        "hot                            22544 non-null int64\n",
        "num_failed_logins              22544 non-null int64\n",
        "logged_in                      22544 non-null int64\n",
        "num_compromised                22544 non-null int64\n",
        "root_shell                     22544 non-null int64\n",
        "su_attempted                   22544 non-null int64\n",
        "num_root                       22544 non-null int64\n",
        "num_file_creations             22544 non-null int64\n",
        "num_shells                     22544 non-null int64\n",
        "num_access_files               22544 non-null int64\n",
        "num_outbound_cmds              22544 non-null int64\n",
        "is_host_login                  22544 non-null int64\n",
        "is_guest_login                 22544 non-null int64\n",
        "count                          22544 non-null int64\n",
        "srv_count                      22544 non-null int64\n",
        "serror_rate                    22544 non-null float64\n",
        "srv_serror_rate                22544 non-null float64\n",
        "rerror_rate                    22544 non-null float64\n",
        "srv_rerror_rate                22544 non-null float64\n",
        "same_srv_rate                  22544 non-null float64\n",
        "diff_srv_rate                  22544 non-null float64\n",
        "srv_diff_host_rate             22544 non-null float64\n",
        "dst_host_count                 22544 non-null int64\n",
        "dst_host_srv_count             22544 non-null int64\n",
        "dst_host_same_srv_rate         22544 non-null float64\n",
        "dst_host_diff_srv_rate         22544 non-null float64\n",
        "dst_host_same_src_port_rate    22544 non-null float64\n",
        "dst_host_diff_host_rate        22544 non-null float64\n",
        "dst_host_serror_rate           22544 non-null float64\n",
        "dst_host_srv_serror_rate       22544 non-null float64\n",
        "dst_host_rerror_rate           22544 non-null float64\n",
        "dst_host_srv_rerror_rate       22544 non-null float64\n",
        "class                          22544 non-null object\n",
        "difficulty                     22544 non-null int64\n",
        "dtypes: float64(15), int64(24), object(4)\n",
        "memory usage: 7.6+ MB\n",
        "None\n"
       ]
      }
     ],
     "prompt_number": 5
    },
    {
     "cell_type": "markdown",
     "metadata": {},
     "source": [
      "In the training dataset there are 125,973 packets each containg 43 data entries while in the testing dataset there are only 22,544 packets.  The \"class\" feature lists whether the packet is part of an attack and which attack it is a part of.  \n",
      "Now I will show the distributions of these attacks."
     ]
    },
    {
     "cell_type": "code",
     "collapsed": false,
     "input": [
      "attacks = train.groupby('class').count()\n",
      "attacks = attacks.loc[:,'duration']\n",
      "print attacks"
     ],
     "language": "python",
     "metadata": {},
     "outputs": [
      {
       "output_type": "stream",
       "stream": "stdout",
       "text": [
        "class\n",
        "back                 956\n",
        "buffer_overflow       30\n",
        "ftp_write              8\n",
        "guess_passwd          53\n",
        "imap                  11\n",
        "ipsweep             3599\n",
        "land                  18\n",
        "loadmodule             9\n",
        "multihop               7\n",
        "neptune            41214\n",
        "nmap                1493\n",
        "normal             67343\n",
        "perl                   3\n",
        "phf                    4\n",
        "pod                  201\n",
        "portsweep           2931\n",
        "rootkit               10\n",
        "satan               3633\n",
        "smurf               2646\n",
        "spy                    2\n",
        "teardrop             892\n",
        "warezclient          890\n",
        "warezmaster           20\n",
        "Name: duration, dtype: int64\n"
       ]
      }
     ],
     "prompt_number": 6
    },
    {
     "cell_type": "code",
     "collapsed": false,
     "input": [
      "attacks.plot(kind = 'bar')"
     ],
     "language": "python",
     "metadata": {},
     "outputs": [
      {
       "metadata": {},
       "output_type": "pyout",
       "prompt_number": 7,
       "text": [
        "<matplotlib.axes._subplots.AxesSubplot at 0x16b9e550>"
       ]
      },
      {
       "metadata": {},
       "output_type": "display_data",
       "png": "[encoded data removed]",
       "text": [
        "<matplotlib.figure.Figure at 0x16b9e198>"
       ]
      }
     ],
     "prompt_number": 7
    },
    {
     "cell_type": "code",
     "collapsed": false,
     "input": [
      "othattacks = attacks.drop(attacks.index[[9,11]])\n",
      "othattacks.plot(kind= 'bar')"
     ],
     "language": "python",
     "metadata": {},
     "outputs": [
      {
       "metadata": {},
       "output_type": "pyout",
       "prompt_number": 8,
       "text": [
        "<matplotlib.axes._subplots.AxesSubplot at 0x1a8fc080>"
       ]
      },
      {
       "metadata": {},
       "output_type": "display_data",
       "png": "[encoded data removed]",
       "text": [
        "<matplotlib.figure.Figure at 0x16b9e518>"
       ]
      }
     ],
     "prompt_number": 8
    },
    {
     "cell_type": "markdown",
     "metadata": {},
     "source": [
      "Here we see that the most of the packets are either normal traffic or an neptune attack.  The others are represented far less, so if we remove the most commonly seen packets we can see how other attacks are represented.  Because they are so underepresented in the dataset, it will be difficult to learn to recognize attacks which have under ten packets in the dataset (e.g. perl, spy, phf, multihop, etc.)."
     ]
    },
    {
     "cell_type": "code",
     "collapsed": false,
     "input": [
      "test_attacks = test.groupby('class').count()\n",
      "test_attacks = test_attacks.loc[:,'duration']\n",
      "print test_attacks\n",
      "test_attacks.plot(kind = 'bar')"
     ],
     "language": "python",
     "metadata": {},
     "outputs": [
      {
       "output_type": "stream",
       "stream": "stdout",
       "text": [
        "class\n",
        "apache2             737\n",
        "back                359\n",
        "buffer_overflow      20\n",
        "ftp_write             3\n",
        "guess_passwd       1231\n",
        "httptunnel          133\n",
        "imap                  1\n",
        "ipsweep             141\n",
        "land                  7\n",
        "loadmodule            2\n",
        "mailbomb            293\n",
        "mscan               996\n",
        "multihop             18\n",
        "named                17\n",
        "neptune            4657\n",
        "nmap                 73\n",
        "normal             9711\n",
        "perl                  2\n",
        "phf                   2\n",
        "pod                  41\n",
        "portsweep           157\n",
        "processtable        685\n",
        "ps                   15\n",
        "rootkit              13\n",
        "saint               319\n",
        "satan               735\n",
        "sendmail             14\n",
        "smurf               665\n",
        "snmpgetattack       178\n",
        "snmpguess           331\n",
        "sqlattack             2\n",
        "teardrop             12\n",
        "udpstorm              2\n",
        "warezmaster         944\n",
        "worm                  2\n",
        "xlock                 9\n",
        "xsnoop                4\n",
        "xterm                13\n",
        "Name: duration, dtype: int64\n"
       ]
      },
      {
       "metadata": {},
       "output_type": "pyout",
       "prompt_number": 9,
       "text": [
        "<matplotlib.axes._subplots.AxesSubplot at 0x174cb320>"
       ]
      },
      {
       "metadata": {},
       "output_type": "display_data",
       "png": "[encoded data removed]",
       "text": [
        "<matplotlib.figure.Figure at 0x199ee978>"
       ]
      }
     ],
     "prompt_number": 9
    },
    {
     "cell_type": "markdown",
     "metadata": {},
     "source": [
      "We see in the test dataset a similar over-representation of normal traffic and the neptune attack.  We also see a number of new attacks that are not represented at all in the training dataset.  This will show if the algorithm learns to recognize just the attacks it is exposed to during training phase or whether it will be able to recognize attacks of any kind.  In this dataset, as in the first one, the attacks that are comprised of a couple of packets will be more difficult to recognize."
     ]
    },
    {
     "cell_type": "code",
     "collapsed": false,
     "input": [
      "# Code for setting the style of the notebook\n",
      "from IPython.core.display import HTML\n",
      "def css_styling():\n",
      "    styles = open(\"../../theme/custom.css\", \"r\").read()\n",
      "    return HTML(styles)\n",
      "css_styling()"
     ],
     "language": "python",
     "metadata": {},
     "outputs": [
      {
       "html": [
        "<link href='http://fonts.googleapis.com/css?family=EB+Garamond' rel='stylesheet' type='text/css'>\n",
        "<link href='http://fonts.googleapis.com/css?family=Alegreya+Sans:100,300,400,500,700,800,900,100italic,300italic,400italic,500italic,700italic,800italic,900italic' rel='stylesheet' type='text/css'>\n",
        "<link href='http://fonts.googleapis.com/css?family=Source+Code+Pro:300,400' rel='stylesheet' type='text/css'>\n",
        "<style>\n",
        "    @font-face {\n",
        "        font-family: \"Computer Modern\";\n",
        "        src: url('http://mirrors.ctan.org/fonts/cm-unicode/fonts/otf/cmunss.otf');\n",
        "    }\n",
        "    .code_cell {\n",
        "        width: 105ex !important ;\n",
        "        margin-bottom: 15px !important;\n",
        "    }\n",
        "    div.cell {\n",
        "        margin-left: auto;\n",
        "        margin-right: auto;\n",
        "        width: 70%;\n",
        "    }    \n",
        "    div.cell.selected {\n",
        "        border: thin rgba(171, 171, 171, 0.5) dashed;\n",
        "    }\n",
        "    h1 {\n",
        "        font-family: 'Alegreya Sans', sans-serif;\n",
        "    }\n",
        "    h2 {\n",
        "        font-family: 'EB Garamond', serif;\n",
        "    }\n",
        "    h3 {\n",
        "        font-family: 'EB Garamond', serif;\n",
        "        margin-top:12px;\n",
        "        margin-bottom: 3px;\n",
        "    }\n",
        "    h4 {\n",
        "        font-family: 'EB Garamond', serif;\n",
        "    }\n",
        "    h5 {\n",
        "        font-family: 'Alegreya Sans', sans-serif;\n",
        "    }\n",
        "    div.text_cell_render {\n",
        "        font-family: 'EB Garamond',Computer Modern, \"Helvetica Neue\", Arial, Helvetica, Geneva, sans-serif;\n",
        "        line-height: 145%;\n",
        "        font-size: 140%;\n",
        "    }\n",
        "    div.input_area {\n",
        "        border-color: rgba(0,0,0,0.10) !important;\n",
        "        background: #fafafa;\n",
        "    }\n",
        "    .CodeMirror {\n",
        "            font-family: \"Source Code Pro\";\n",
        "            font-size: 90%;\n",
        "    }\n",
        "    .prompt {\n",
        "        display: None;\n",
        "    }\n",
        "    .output {\n",
        "        padding-left: 50px;\n",
        "        padding-top: 5px;\n",
        "    }\n",
        "    .output_wrapper {\n",
        "        padding-left: 5px;\n",
        "        padding-top: inherit;\n",
        "    }\n",
        "    div.output_scroll {\n",
        "        width: inherit;\n",
        "    }\n",
        "    .inner_cell {\n",
        "        padding-left: 5px;\n",
        "    }\n",
        "    .text_cell_render h1 {\n",
        "        font-weight: 200;\n",
        "        font-size: 50pt;\n",
        "        line-height: 100%;\n",
        "        color:#CD2305;\n",
        "        margin-bottom: 0.5em;\n",
        "        margin-top: 0.5em;\n",
        "        display: block;\n",
        "    }\n",
        "    .text_cell_render h5 {\n",
        "        font-weight: 300;\n",
        "        font-size: 16pt;\n",
        "        color: #CD2305;\n",
        "        font-style: italic;\n",
        "        margin-bottom: .5em;\n",
        "        margin-top: 0.5em;\n",
        "        display: block;\n",
        "    }\n",
        "    .warning {\n",
        "        color: rgb( 240, 20, 20 )\n",
        "        }  \n",
        "</style>\n",
        "<script>\n",
        "    MathJax.Hub.Config({\n",
        "                        TeX: {\n",
        "                           extensions: [\"AMSmath.js\"]\n",
        "                           },\n",
        "                tex2jax: {\n",
        "                    inlineMath: [ ['$','$'], [\"\\\\(\",\"\\\\)\"] ],\n",
        "                    displayMath: [ ['$$','$$'], [\"\\\\[\",\"\\\\]\"] ]\n",
        "                },\n",
        "                displayAlign: 'center', // Change this to 'center' to center equations.\n",
        "                \"HTML-CSS\": {\n",
        "                    styles: {'.MathJax_Display': {\"margin\": 4}}\n",
        "                }\n",
        "        });\n",
        "</script>"
       ],
       "metadata": {},
       "output_type": "pyout",
       "prompt_number": 45,
       "text": [
        "<IPython.core.display.HTML at 0x19f5eb38>"
       ]
      }
     ],
     "prompt_number": 45
    }
   ],
   "metadata": {}
  }
 ]
}