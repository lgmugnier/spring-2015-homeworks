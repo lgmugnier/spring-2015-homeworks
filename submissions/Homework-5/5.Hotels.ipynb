{
 "metadata": {
  "name": "",
  "signature": "sha256:d4287cb4c6ff42193e165cb4b6a99ecc81e4dfce9e3d2f23079851a8b76c5849"
 },
 "nbformat": 3,
 "nbformat_minor": 0,
 "worksheets": [
  {
   "cells": [
    {
     "cell_type": "markdown",
     "metadata": {},
     "source": [
      "(In order to load the stylesheet of this notebook, execute the last code cell in this notebook)"
     ]
    },
    {
     "cell_type": "heading",
     "level": 1,
     "metadata": {},
     "source": [
      "Analyzing hotel ratings on Tripadvisor"
     ]
    },
    {
     "cell_type": "markdown",
     "metadata": {},
     "source": [
      "In this homework we will focus on practicing two techniques: web scraping and regression. For the first part, we will build upon the sample code from the Lecture and attempt to get some basic information for each hotel. Then, we will fit a regression model on this information and try to analyze it.   "
     ]
    },
    {
     "cell_type": "markdown",
     "metadata": {},
     "source": [
      "One of the main disadvantages of scraping a website instead of using an API is that, without any notice, the website may change its layout and render our code useless. Something like that happened in our case. Tripadvisor changed the layout of the buttons that we use to navigate between the different pages of the results. This was the main reason people were having problem with executing the code."
     ]
    },
    {
     "cell_type": "markdown",
     "metadata": {},
     "source": [
      "**Task 1 (20 pts)**\n",
      "\n",
      "The first task of the homework is to fix the scraping code. We basically need to replace the part where we are checking if there is another page and getting its link with new code that reflects the new navigation layout. "
     ]
    },
    {
     "cell_type": "code",
     "collapsed": false,
     "input": [
      "#!/usr/bin/python\n",
      "# -*- coding: utf-8 -*-\n",
      "\n",
      "import os\n",
      "import sys\n",
      "import time\n",
      "import argparse\n",
      "import logging\n",
      "import requests\n",
      "from BeautifulSoup import BeautifulSoup"
     ],
     "language": "python",
     "metadata": {},
     "outputs": [],
     "prompt_number": 93
    },
    {
     "cell_type": "code",
     "collapsed": false,
     "input": [
      "log = logging.getLogger(__name__)\n",
      "log.setLevel(logging.INFO)\n",
      "loghandler = logging.StreamHandler(sys.stderr)\n",
      "loghandler.setFormatter(logging.Formatter(\"[%(asctime)s] %(message)s\"))\n",
      "log.addHandler(loghandler)\n",
      "\n",
      "base_url = \"http://www.tripadvisor.com/\"\n",
      "user_agent = \"Mozilla/5.0 (Macintosh; Intel Mac OS X 10_10_2) AppleWebKit/537.36 (KHTML, like Gecko) Chrome/41.0.2272.76 Safari/537.36\"\n",
      "hotel_info = {}\n",
      "\n",
      "def get_city_page(city, state):\n",
      "    \"\"\" Returns the URL of the list of the hotels in a city. Corresponds to\n",
      "    STEP 1 & 2 of the slides.\n",
      "\n",
      "    Parameters\n",
      "    ----------\n",
      "    city : str\n",
      "    state : str\n",
      "\n",
      "    Returns\n",
      "    -------\n",
      "    url : str\n",
      "        The relative link to the website with the hotels list.\n",
      "    \"\"\"\n",
      "    # Build the request URL\n",
      "    url = base_url + \"city=\" + city + \"&state=\" + state\n",
      "    # Request the HTML page\n",
      "    headers = {'User-Agent': user_agent}\n",
      "    response = requests.get(url, headers=headers)\n",
      "    html = response.text.encode('utf-8')\n",
      "\n",
      "    # Use BeautifulSoup to extract the url for the list of hotels in\n",
      "    # the city and state we are interested in.\n",
      "\n",
      "    # For example in this case we need to get the following href\n",
      "    # <li class=\"hotels twoLines\">\n",
      "    # <a href=\"/Hotels-g60745-Boston_Massachusetts-Hotels.html\" data-trk=\"hotels_nav\">...</a>\n",
      "    soup = BeautifulSoup(html)\n",
      "    li = soup.find(\"li\", {\"class\": \"hotels twoLines\"})\n",
      "    city_url = li.find('a', href=True)\n",
      "    return city_url['href']\n",
      "\n",
      "\n",
      "def get_hotellist_page(city_url, page_count):\n",
      "    \"\"\" Returns the hotel list HTML. The URL of the list is the result of\n",
      "    get_city_page(). Also, saves a copy of the HTML to the disk. Corresponds to\n",
      "    STEP 3 of the slides.\n",
      "\n",
      "    Parameters\n",
      "    ----------\n",
      "    city_url : str\n",
      "        The relative URL of the hotels in the city we are interested in.\n",
      "    page_count : int\n",
      "        The page that we want to fetch. Used for keeping track of our progress.\n",
      "\n",
      "    Returns\n",
      "    -------\n",
      "    html : str\n",
      "        The HTML of the page with the list of the hotels.\n",
      "    \"\"\"\n",
      "    #print \"base_url = \" + base_url + \" is of type \" + str(type(base_url))\n",
      "    #print \"city_url = \" + city_url + \" is of type \" + str(type(city_url))\n",
      "    url = base_url + city_url\n",
      "    # Sleep 2 sec before starting a new http request\n",
      "    time.sleep(2)\n",
      "    # Request page\n",
      "    headers = { 'User-Agent' : user_agent }\n",
      "    response = requests.get(url, headers=headers)\n",
      "    html = response.text.encode('utf-8')\n",
      "    # Save the webpage\n",
      "    #with open(os.path.join(args.datadir, args.city + '-hotelist-' + str(page_count) + '.html'), \"w\") as h:\n",
      "    #    h.write(html)\n",
      "    return html\n",
      "\n",
      "\n",
      "def getRatingInfo(href):\n",
      "    html = get_hotellist_page(href, 0)\n",
      "    soup = BeautifulSoup(html)\n",
      "    div = soup.find('ul', {'class': 'barChart'})\n",
      "    ratings = div.findAll('span', {'class': 'compositeCount'})\n",
      "    c = 5\n",
      "    rdist = {}\n",
      "    for r in ratings:\n",
      "        rdist[c] = r.find(text=True).strip()\n",
      "        c = c - 1\n",
      "    print \"ratings : \" + str(rdist)\n",
      "    return rdist\n",
      "\n",
      "def parse_hotellist_page(html):\n",
      "    \"\"\"Parses the website with the hotel list and prints the hotel name, the\n",
      "    number of stars and the number of reviews it has. If there is a next page\n",
      "    in the hotel list, it returns a list to that page. Otherwise, it exits the\n",
      "    script. Corresponds to STEP 4 of the slides.\n",
      "\n",
      "    Parameters\n",
      "    ----------\n",
      "    html : str\n",
      "        The HTML of the website with the hotel list.\n",
      "\n",
      "    Returns\n",
      "    -------\n",
      "    URL : str\n",
      "        If there is a next page, return a relative link to this page.\n",
      "        Otherwise, exit the script.\n",
      "    \"\"\"\n",
      "    soup = BeautifulSoup(html)\n",
      "    # Extract hotel name, star rating and number of reviews\n",
      "    hotel_boxes = soup.findAll('div', {'class' :'listing wrap reasoning_v5_wrap jfy_listing p13n_imperfect'})\n",
      "    if not hotel_boxes:\n",
      "        hotel_boxes = soup.findAll('div', {'class' :'listing_info jfy'})\n",
      "    if not hotel_boxes:\n",
      "        hotel_boxes = soup.findAll('div', {'class' :'listing easyClear  p13n_imperfect'})\n",
      "\n",
      "    for hotel_box in hotel_boxes:\n",
      "        hotel_name = hotel_box.find(\"a\", {\"target\" : \"_blank\"}).find(text=True).strip()\n",
      "        print hotel_name\n",
      "        #log.info(\"Hotel name: %s\" % hotel_name.strip())\n",
      "\n",
      "        stars = hotel_box.find(\"img\", {\"class\" : \"sprite-ratings\"})\n",
      "        if stars:\n",
      "            numStars = stars['alt'].split()[0]\n",
      "            #print numStars\n",
      "\n",
      "        num_reviews = hotel_box.find(\"span\", {'class': \"more\"}).findAll(text=True)\n",
      "        if num_reviews:\n",
      "            reviews = [x for x in num_reviews if \"review\" in x][0].strip()\n",
      "            #print reviews\n",
      "            \n",
      "        link = hotel_box.find(\"a\", {\"class\": \"property_title\"})\n",
      "        if link:\n",
      "            href = link.get('href')\n",
      "            ratings = getRatingInfo(href)\n",
      "            \n",
      "        hotel_info[hotel_name] = [numStars, reviews, ratings]\n",
      "\n",
      "    # Get next URL page if exists, otherwise exit\n",
      "    div = soup.find(\"div\", {\"class\" : \"pagination paginationfillbtm\"})\n",
      "    # check if this is the last page\n",
      "    if div.find('span', {'class' : 'guiArw pageEndNext'}):\n",
      "        print \"We reached the last page\"\n",
      "        #print hotel_info\n",
      "        sys.exit()\n",
      "    # If not, return the url to the next page\n",
      "    adiv = div.findAll('a', {'class': 'guiArw sprite-pageNext '})\n",
      "    for a in adiv:\n",
      "        return a.get('href')\n",
      "\n",
      "\n",
      "def getHotelInfo(city, state):\n",
      "    # Get URL to obtaint the list of hotels in a specific city\n",
      "    city_url = get_city_page(city, state)\n",
      "    c = 0\n",
      "    while(True):\n",
      "        c += 1\n",
      "        html = get_hotellist_page(city_url,c)\n",
      "        city_url = parse_hotellist_page(html)\n"
     ],
     "language": "python",
     "metadata": {},
     "outputs": [],
     "prompt_number": 98
    },
    {
     "cell_type": "code",
     "collapsed": false,
     "input": [
      "getHotelInfo(\"Boston\", \"Massachusetts\")"
     ],
     "language": "python",
     "metadata": {},
     "outputs": [
      {
       "output_type": "stream",
       "stream": "stdout",
       "text": [
        "Hyatt Boston Harbor\n",
        "ratings : {1: u'34', 2: u'67', 3: u'166', 4: u'424', 5: u'480'}"
       ]
      },
      {
       "output_type": "stream",
       "stream": "stdout",
       "text": [
        "\n",
        "Seaport Boston Hotel\n",
        "ratings : {1: u'31', 2: u'33', 3: u'98', 4: u'506', 5: u'1,883'}"
       ]
      },
      {
       "output_type": "stream",
       "stream": "stdout",
       "text": [
        "\n",
        "Hotel Commonwealth\n",
        "ratings : {1: u'13', 2: u'39', 3: u'81', 4: u'442', 5: u'2,372'}"
       ]
      },
      {
       "output_type": "stream",
       "stream": "stdout",
       "text": [
        "\n",
        "Boston Harbor Hotel\n",
        "ratings : {1: u'11', 2: u'15', 3: u'44', 4: u'189', 5: u'992'}"
       ]
      },
      {
       "output_type": "stream",
       "stream": "stdout",
       "text": [
        "\n",
        "enVision Hotel Boston\n",
        "ratings : {1: u'1', 2: u'7', 3: u'21', 4: u'85', 5: u'246'}"
       ]
      },
      {
       "output_type": "stream",
       "stream": "stdout",
       "text": [
        "\n",
        "Revere Hotel Boston Common\n",
        "ratings : {1: u'17', 2: u'39', 3: u'181', 4: u'620', 5: u'1,094'}"
       ]
      },
      {
       "output_type": "stream",
       "stream": "stdout",
       "text": [
        "\n",
        "Nine Zero Hotel - a Kimpton Hotel\n",
        "ratings : {1: u'19', 2: u'30', 3: u'105', 4: u'496', 5: u'1,179'}"
       ]
      },
      {
       "output_type": "stream",
       "stream": "stdout",
       "text": [
        "\n",
        "Lenox Hotel\n",
        "ratings : {1: u'20', 2: u'46', 3: u'107', 4: u'509', 5: u'1,884'}"
       ]
      },
      {
       "output_type": "stream",
       "stream": "stdout",
       "text": [
        "\n",
        "The Westin Copley Place\n",
        "ratings : {1: u'34', 2: u'93', 3: u'277', 4: u'833', 5: u'1,071'}"
       ]
      },
      {
       "output_type": "stream",
       "stream": "stdout",
       "text": [
        "\n",
        "Courtyard by Marriott Boston Copley Square\n",
        "ratings : {1: u'11', 2: u'8', 3: u'43', 4: u'276', 5: u'628'}"
       ]
      },
      {
       "output_type": "stream",
       "stream": "stdout",
       "text": [
        "\n",
        "Omni Parker House\n",
        "ratings : {1: u'134', 2: u'244', 3: u'563', 4: u'1,490', 5: u'2,032'}"
       ]
      },
      {
       "output_type": "stream",
       "stream": "stdout",
       "text": [
        "\n",
        "Embassy Suites Boston Logan Airport\n",
        "ratings : {1: u'40', 2: u'66', 3: u'217', 4: u'517', 5: u'482'}"
       ]
      },
      {
       "output_type": "stream",
       "stream": "stdout",
       "text": [
        "\n",
        "XV Beacon\n",
        "ratings : {1: u'9', 2: u'22', 3: u'30', 4: u'139', 5: u'598'}"
       ]
      },
      {
       "output_type": "stream",
       "stream": "stdout",
       "text": [
        "\n",
        "The Midtown Hotel\n",
        "ratings : {1: u'64', 2: u'124', 3: u'341', 4: u'608', 5: u'255'}"
       ]
      },
      {
       "output_type": "stream",
       "stream": "stdout",
       "text": [
        "\n",
        "The Verb Hotel\n",
        "ratings : {1: u'2', 2: u'1', 3: u'9', 4: u'56', 5: u'178'}"
       ]
      },
      {
       "output_type": "stream",
       "stream": "stdout",
       "text": [
        "\n",
        "The Liberty Hotel\n",
        "ratings : {1: u'32', 2: u'28', 3: u'78', 4: u'211', 5: u'396'}"
       ]
      },
      {
       "output_type": "stream",
       "stream": "stdout",
       "text": [
        "\n",
        "Copley Square Hotel\n",
        "ratings : {1: u'15', 2: u'28', 3: u'103', 4: u'360', 5: u'540'}"
       ]
      },
      {
       "output_type": "stream",
       "stream": "stdout",
       "text": [
        "\n",
        "Taj Boston\n",
        "ratings : {1: u'32', 2: u'83', 3: u'149', 4: u'374', 5: u'509'}"
       ]
      },
      {
       "output_type": "stream",
       "stream": "stdout",
       "text": [
        "\n",
        "Harborside Inn\n",
        "ratings : {1: u'41', 2: u'47', 3: u'98', 4: u'460', 5: u'388'}"
       ]
      },
      {
       "output_type": "stream",
       "stream": "stdout",
       "text": [
        "\n",
        "The Fairmont Copley Plaza, Boston\n",
        "ratings : {1: u'29', 2: u'68', 3: u'157', 4: u'434', 5: u'923'}"
       ]
      },
      {
       "output_type": "stream",
       "stream": "stdout",
       "text": [
        "\n",
        "Hilton Boston Back Bay\n",
        "ratings : {1: u'27', 2: u'91', 3: u'283', 4: u'731', 5: u'575'}"
       ]
      },
      {
       "output_type": "stream",
       "stream": "stdout",
       "text": [
        "\n",
        "Millennium Bostonian Hotel\n",
        "ratings : {1: u'33', 2: u'55', 3: u'116', 4: u'377', 5: u'438'}"
       ]
      },
      {
       "output_type": "stream",
       "stream": "stdout",
       "text": [
        "\n",
        "The Langham, Boston\n",
        "ratings : {1: u'29', 2: u'41', 3: u'112', 4: u'419', 5: u'809'}"
       ]
      },
      {
       "output_type": "stream",
       "stream": "stdout",
       "text": [
        "\n",
        "InterContinental Boston\n",
        "ratings : {1: u'47', 2: u'56', 3: u'130', 4: u'526', 5: u'1,138'}"
       ]
      },
      {
       "output_type": "stream",
       "stream": "stdout",
       "text": [
        "\n",
        "Boston Hotel Buckminster\n",
        "ratings : {1: u'70', 2: u'67', 3: u'149', 4: u'373', 5: u'169'}"
       ]
      },
      {
       "output_type": "stream",
       "stream": "stdout",
       "text": [
        "\n",
        "Marriott's Custom House\n",
        "ratings : {1: u'12', 2: u'12', 3: u'11', 4: u'146', 5: u'381'}"
       ]
      },
      {
       "output_type": "stream",
       "stream": "stdout",
       "text": [
        "\n",
        "Sheraton Boston Hotel\n",
        "ratings : {1: u'19', 2: u'19', 3: u'74', 4: u'224', 5: u'197'}"
       ]
      },
      {
       "output_type": "stream",
       "stream": "stdout",
       "text": [
        "\n",
        "Residence Inn Boston Back Bay / Fenway\n",
        "ratings : {1: u'3', 2: u'9', 3: u'23', 4: u'135', 5: u'353'}"
       ]
      },
      {
       "output_type": "stream",
       "stream": "stdout",
       "text": [
        "\n",
        "Boston Marriott Copley Place\n",
        "ratings : {1: u'35', 2: u'98', 3: u'332', 4: u'937', 5: u'638'}"
       ]
      },
      {
       "output_type": "stream",
       "stream": "stdout",
       "text": [
        "\n",
        "Loews Boston Hotel\n",
        "ratings : {1: u'3', 2: u'15', 3: u'59', 4: u'216', 5: u'478'}"
       ]
      },
      {
       "output_type": "stream",
       "stream": "stdout",
       "text": [
        "\n",
        "Battery Wharf Hotel, Boston Waterfront"
       ]
      },
      {
       "output_type": "stream",
       "stream": "stdout",
       "text": [
        "\n",
        "ratings : {1: u'9', 2: u'24', 3: u'74', 4: u'197', 5: u'560'}"
       ]
      },
      {
       "output_type": "stream",
       "stream": "stdout",
       "text": [
        "\n",
        "Hotel 140\n",
        "ratings : {1: u'45', 2: u'56', 3: u'161', 4: u'390', 5: u'320'}"
       ]
      },
      {
       "output_type": "stream",
       "stream": "stdout",
       "text": [
        "\n",
        "Residence Inn by Marriott Boston Harbor on Tudor Wharf\n",
        "ratings : {1: u'4', 2: u'14', 3: u'42', 4: u'182', 5: u'277'}"
       ]
      },
      {
       "output_type": "stream",
       "stream": "stdout",
       "text": [
        "\n",
        "Chandler Inn\n",
        "ratings : {1: u'25', 2: u'48', 3: u'110', 4: u'406', 5: u'269'}"
       ]
      },
      {
       "output_type": "stream",
       "stream": "stdout",
       "text": [
        "\n",
        "DoubleTree by Hilton Hotel Boston - Downtown\n",
        "ratings : {1: u'8', 2: u'19', 3: u'61', 4: u'178', 5: u'204'}"
       ]
      },
      {
       "output_type": "stream",
       "stream": "stdout",
       "text": [
        "\n",
        "Boston Marriott Copley Place\n",
        "ratings : {1: u'35', 2: u'98', 3: u'332', 4: u'937', 5: u'638'}"
       ]
      },
      {
       "output_type": "stream",
       "stream": "stdout",
       "text": [
        "\n",
        "Four Seasons Hotel Boston\n",
        "ratings : {1: u'13', 2: u'22', 3: u'47', 4: u'140', 5: u'811'}"
       ]
      },
      {
       "output_type": "stream",
       "stream": "stdout",
       "text": [
        "\n",
        "Boston Marriott Long Wharf\n",
        "ratings : {1: u'26', 2: u'49', 3: u'137', 4: u'467', 5: u'611'}"
       ]
      },
      {
       "output_type": "stream",
       "stream": "stdout",
       "text": [
        "\n",
        "Club Quarters in Boston\n",
        "ratings : {1: u'34', 2: u'49', 3: u'133', 4: u'420', 5: u'415'}"
       ]
      },
      {
       "output_type": "stream",
       "stream": "stdout",
       "text": [
        "\n",
        "XV Beacon\n",
        "ratings : {1: u'9', 2: u'22', 3: u'30', 4: u'139', 5: u'598'}"
       ]
      },
      {
       "output_type": "stream",
       "stream": "stdout",
       "text": [
        "\n",
        "Hyatt Regency Boston\n",
        "ratings : {1: u'55', 2: u'133', 3: u'381', 4: u'738', 5: u'627'}"
       ]
      },
      {
       "output_type": "stream",
       "stream": "stdout",
       "text": [
        "\n",
        "Hilton Boston Downtown / Faneuil Hall\n",
        "ratings : {1: u'30', 2: u'42', 3: u'162', 4: u'340', 5: u'302'}"
       ]
      },
      {
       "output_type": "stream",
       "stream": "stdout",
       "text": [
        "\n",
        "Hampton Inn & Suites Boston Crosstown Center\n",
        "ratings : {1: u'22', 2: u'34', 3: u'94', 4: u'215', 5: u'203'}"
       ]
      },
      {
       "output_type": "stream",
       "stream": "stdout",
       "text": [
        "\n",
        "Onyx Hotel - a Kimpton Hotel\n",
        "ratings : {1: u'22', 2: u'48', 3: u'109', 4: u'326', 5: u'478'}"
       ]
      },
      {
       "output_type": "stream",
       "stream": "stdout",
       "text": [
        "\n",
        "Residence Inn Boston Downtown Seaport\n",
        "ratings : {1: u'1', 2: u'7', 3: u'6', 4: u'52', 5: u'168'}"
       ]
      },
      {
       "output_type": "stream",
       "stream": "stdout",
       "text": [
        "\n",
        "Ramada Boston\n",
        "ratings : {1: u'127', 2: u'172', 3: u'256', 4: u'235', 5: u'130'}"
       ]
      },
      {
       "output_type": "stream",
       "stream": "stdout",
       "text": [
        "\n",
        "BEST WESTERN University Hotel Boston-Brighton\n",
        "ratings : {1: u'21', 2: u'33', 3: u'78', 4: u'132', 5: u'97'}"
       ]
      },
      {
       "output_type": "stream",
       "stream": "stdout",
       "text": [
        "\n",
        "Colonnade Hotel\n",
        "ratings : {1: u'49', 2: u'63', 3: u'160', 4: u'513', 5: u'1,278'}"
       ]
      },
      {
       "output_type": "stream",
       "stream": "stdout",
       "text": [
        "\n",
        "DoubleTree Suites by Hilton Boston-Cambridge\n",
        "ratings : {1: u'35', 2: u'58', 3: u'138', 4: u'443', 5: u'390'}"
       ]
      },
      {
       "output_type": "stream",
       "stream": "stdout",
       "text": [
        "\n",
        "The Westin Boston Waterfront\n",
        "ratings : {1: u'46', 2: u'85', 3: u'267', 4: u'637', 5: u'586'}"
       ]
      },
      {
       "output_type": "stream",
       "stream": "stdout",
       "text": [
        "\n",
        "Copley House\n",
        "ratings : {1: u'41', 2: u'32', 3: u'60', 4: u'138', 5: u'109'}"
       ]
      },
      {
       "output_type": "stream",
       "stream": "stdout",
       "text": [
        "\n",
        "The Boston Common Hotel and Conference Center\n",
        "ratings : {1: u'33', 2: u'59', 3: u'147', 4: u'158', 5: u'46'}"
       ]
      },
      {
       "output_type": "stream",
       "stream": "stdout",
       "text": [
        "\n",
        "Eliot Hotel\n",
        "ratings : {1: u'23', 2: u'29', 3: u'65', 4: u'196', 5: u'433'}"
       ]
      },
      {
       "output_type": "stream",
       "stream": "stdout",
       "text": [
        "\n",
        "DoubleTree Club by Hilton Hotel Boston Bayside\n",
        "ratings : {1: u'37', 2: u'76', 3: u'228', 4: u'346', 5: u'259'}"
       ]
      },
      {
       "output_type": "stream",
       "stream": "stdout",
       "text": [
        "\n",
        "Boston Hotel Buckminster\n",
        "ratings : {1: u'70', 2: u'67', 3: u'149', 4: u'373', 5: u'169'}"
       ]
      },
      {
       "output_type": "stream",
       "stream": "stdout",
       "text": [
        "\n",
        "Ames Boston Hotel\n",
        "ratings : {1: u'15', 2: u'35', 3: u'89', 4: u'258', 5: u'473'}"
       ]
      },
      {
       "output_type": "stream",
       "stream": "stdout",
       "text": [
        "\n",
        "Charlesmark Hotel\n",
        "ratings : {1: u'18', 2: u'34', 3: u'71', 4: u'302', 5: u'329'}"
       ]
      },
      {
       "output_type": "stream",
       "stream": "stdout",
       "text": [
        "\n",
        "Newbury Guest House\n",
        "ratings : {1: u'14', 2: u'20', 3: u'44', 4: u'185', 5: u'173'}"
       ]
      },
      {
       "output_type": "stream",
       "stream": "stdout",
       "text": [
        "\n",
        "Mandarin Oriental, Boston\n",
        "ratings : {1: u'6', 2: u'7', 3: u'20', 4: u'61', 5: u'314'}"
       ]
      },
      {
       "output_type": "stream",
       "stream": "stdout",
       "text": [
        "\n",
        "Hilton Boston Logan Airport\n",
        "ratings : {1: u'47', 2: u'85', 3: u'295', 4: u'857', 5: u'686'}"
       ]
      },
      {
       "output_type": "stream",
       "stream": "stdout",
       "text": [
        "\n",
        "Courtyard Boston Downtown"
       ]
      },
      {
       "output_type": "stream",
       "stream": "stdout",
       "text": [
        "\n",
        "ratings : {1: u'81', 2: u'152', 3: u'266', 4: u'233', 5: u'76'}"
       ]
      },
      {
       "output_type": "stream",
       "stream": "stdout",
       "text": [
        "\n",
        "The Boxer Boston\n",
        "ratings : {1: u'8', 2: u'8', 3: u'45', 4: u'134', 5: u'174'}"
       ]
      },
      {
       "output_type": "stream",
       "stream": "stdout",
       "text": [
        "\n",
        "Holiday Inn Express Hotel & Suites Boston Garden\n",
        "ratings : {1: u'19', 2: u'27', 3: u'64', 4: u'115', 5: u'81'}"
       ]
      },
      {
       "output_type": "stream",
       "stream": "stdout",
       "text": [
        "\n",
        "Renaissance Boston Waterfront Hotel\n",
        "ratings : {1: u'15', 2: u'34', 3: u'104', 4: u'383', 5: u'337'}"
       ]
      },
      {
       "output_type": "stream",
       "stream": "stdout",
       "text": [
        "\n",
        "The Inn At St Botolph\n",
        "ratings : {1: u'2', 2: u'7', 3: u'20', 4: u'105', 5: u'295'}"
       ]
      },
      {
       "output_type": "stream",
       "stream": "stdout",
       "text": [
        "\n",
        "BEST WESTERN PLUS Roundhouse Suites\n",
        "ratings : {1: u'34', 2: u'69', 3: u'129', 4: u'305', 5: u'179'}"
       ]
      },
      {
       "output_type": "stream",
       "stream": "stdout",
       "text": [
        "\n",
        "The Inn at Longwood Medical\n",
        "ratings : {1: u'39', 2: u'43', 3: u'96', 4: u'162', 5: u'347'}"
       ]
      },
      {
       "output_type": "stream",
       "stream": "stdout",
       "text": [
        "\n",
        "Wyndham Boston Beacon Hill\n",
        "ratings : {1: u'32', 2: u'70', 3: u'186', 4: u'404', 5: u'348'}"
       ]
      }
     ]
    },
    {
     "cell_type": "markdown",
     "metadata": {},
     "source": [
      "** Task 2 (30 pts)**\n",
      "\n",
      "Then, for each hotel that our search returns, we will \"click\" (with the code of course) on it and scrape the information below.\n",
      "\n",
      "![Information to be scraped](hotel_info.png)\n",
      "\n",
      "Of course, feel free to collect even more data if you want. "
     ]
    },
    {
     "cell_type": "code",
     "collapsed": false,
     "input": [],
     "language": "python",
     "metadata": {},
     "outputs": []
    },
    {
     "cell_type": "markdown",
     "metadata": {},
     "source": [
      "** Task 3 (20 pts) **\n",
      "\n",
      "Now, we will use regression to analyze this information. First, we will fit a linear regression model that predicts the average rating. For example, for the hotel above, the average rating is\n",
      "\n",
      "$$ \\text{AVG_SCORE} = \\frac{1*31 + 2*33 + 3*98 + 4*504 + 5*1861}{2527}$$\n",
      "\n",
      "Use the model to analyze the important factors that decide the $\\text{AVG_SCORE}$."
     ]
    },
    {
     "cell_type": "markdown",
     "metadata": {},
     "source": [
      "** Task 4 (30 pts) **\n",
      "\n",
      "Finally, we will use logistic regression to decide if a hotel is _excellent_ or not. We classify a hotel as _excellent_ if more than **60%** of its ratings are 5 stars. This is a binary attribute on which we can fit a logistic regression model. As before, use the model to analyze the data.\n",
      "\n",
      "-------"
     ]
    },
    {
     "cell_type": "markdown",
     "metadata": {},
     "source": [
      "In order to use code from a Python script file, we need to put that file in the same folder as the notebook and import it as a library. Then, we will be able to access it's functions. For example, in the case of the lecture code, we could do the following:\n",
      "\n",
      "``` python\n",
      "import scrape_solution as scrape\n",
      "\n",
      "scrape.get_city_page()\n",
      "```\n",
      "\n",
      "Of course, you might need to modify and restructure the code so that it returns what you need."
     ]
    },
    {
     "cell_type": "markdown",
     "metadata": {},
     "source": [
      "----"
     ]
    },
    {
     "cell_type": "code",
     "collapsed": false,
     "input": [],
     "language": "python",
     "metadata": {},
     "outputs": []
    },
    {
     "cell_type": "code",
     "collapsed": false,
     "input": [],
     "language": "python",
     "metadata": {},
     "outputs": []
    },
    {
     "cell_type": "code",
     "collapsed": false,
     "input": [],
     "language": "python",
     "metadata": {},
     "outputs": []
    },
    {
     "cell_type": "code",
     "collapsed": false,
     "input": [],
     "language": "python",
     "metadata": {},
     "outputs": []
    },
    {
     "cell_type": "code",
     "collapsed": false,
     "input": [
      "# Code for setting the style of the notebook\n",
      "from IPython.core.display import HTML\n",
      "def css_styling():\n",
      "    styles = open(\"../../theme/custom.css\", \"r\").read()\n",
      "    return HTML(styles)\n",
      "css_styling()"
     ],
     "language": "python",
     "metadata": {},
     "outputs": [
      {
       "html": [
        "<link href='http://fonts.googleapis.com/css?family=EB+Garamond' rel='stylesheet' type='text/css'>\n",
        "<link href='http://fonts.googleapis.com/css?family=Alegreya+Sans:100,300,400,500,700,800,900,100italic,300italic,400italic,500italic,700italic,800italic,900italic' rel='stylesheet' type='text/css'>\n",
        "<link href='http://fonts.googleapis.com/css?family=Source+Code+Pro:300,400' rel='stylesheet' type='text/css'>\n",
        "<style>\n",
        "    @font-face {\n",
        "        font-family: \"Computer Modern\";\n",
        "        src: url('http://mirrors.ctan.org/fonts/cm-unicode/fonts/otf/cmunss.otf');\n",
        "    }\n",
        "    .code_cell {\n",
        "        width: 105ex !important ;\n",
        "        margin-bottom: 15px !important;\n",
        "    }\n",
        "    div.cell {\n",
        "        margin-left: auto;\n",
        "        margin-right: auto;\n",
        "        width: 70%;\n",
        "    }    \n",
        "    div.cell.selected {\n",
        "        border: thin rgba(171, 171, 171, 0.5) dashed;\n",
        "    }\n",
        "    h1 {\n",
        "        font-family: 'Alegreya Sans', sans-serif;\n",
        "    }\n",
        "    h2 {\n",
        "        font-family: 'EB Garamond', serif;\n",
        "    }\n",
        "    h3 {\n",
        "        font-family: 'EB Garamond', serif;\n",
        "        margin-top:12px;\n",
        "        margin-bottom: 3px;\n",
        "    }\n",
        "    h4 {\n",
        "        font-family: 'EB Garamond', serif;\n",
        "    }\n",
        "    h5 {\n",
        "        font-family: 'Alegreya Sans', sans-serif;\n",
        "    }\n",
        "    div.text_cell_render {\n",
        "        font-family: 'EB Garamond',Computer Modern, \"Helvetica Neue\", Arial, Helvetica, Geneva, sans-serif;\n",
        "        line-height: 145%;\n",
        "        font-size: 140%;\n",
        "    }\n",
        "    div.input_area {\n",
        "        border-color: rgba(0,0,0,0.10) !important;\n",
        "        background: #fafafa;\n",
        "    }\n",
        "    .CodeMirror {\n",
        "            font-family: \"Source Code Pro\";\n",
        "            font-size: 90%;\n",
        "    }\n",
        "    .prompt {\n",
        "        display: None;\n",
        "    }\n",
        "    .output {\n",
        "        padding-left: 50px;\n",
        "        padding-top: 5px;\n",
        "    }\n",
        "    .output_wrapper {\n",
        "        padding-left: 5px;\n",
        "        padding-top: inherit;\n",
        "    }\n",
        "    div.output_scroll {\n",
        "        width: inherit;\n",
        "    }\n",
        "    .inner_cell {\n",
        "        padding-left: 5px;\n",
        "    }\n",
        "    .text_cell_render h1 {\n",
        "        font-weight: 200;\n",
        "        font-size: 50pt;\n",
        "        line-height: 100%;\n",
        "        color:#CD2305;\n",
        "        margin-bottom: 0.5em;\n",
        "        margin-top: 0.5em;\n",
        "        display: block;\n",
        "    }\n",
        "    .text_cell_render h5 {\n",
        "        font-weight: 300;\n",
        "        font-size: 16pt;\n",
        "        color: #CD2305;\n",
        "        font-style: italic;\n",
        "        margin-bottom: .5em;\n",
        "        margin-top: 0.5em;\n",
        "        display: block;\n",
        "    }\n",
        "    .warning {\n",
        "        color: rgb( 240, 20, 20 )\n",
        "        }  \n",
        "</style>\n",
        "<script>\n",
        "    MathJax.Hub.Config({\n",
        "                        TeX: {\n",
        "                           extensions: [\"AMSmath.js\"]\n",
        "                           },\n",
        "                tex2jax: {\n",
        "                    inlineMath: [ ['$','$'], [\"\\\\(\",\"\\\\)\"] ],\n",
        "                    displayMath: [ ['$$','$$'], [\"\\\\[\",\"\\\\]\"] ]\n",
        "                },\n",
        "                displayAlign: 'center', // Change this to 'center' to center equations.\n",
        "                \"HTML-CSS\": {\n",
        "                    styles: {'.MathJax_Display': {\"margin\": 4}}\n",
        "                }\n",
        "        });\n",
        "</script>"
       ],
       "metadata": {},
       "output_type": "pyout",
       "prompt_number": 2,
       "text": [
        "<IPython.core.display.HTML at 0x3a6e978>"
       ]
      }
     ],
     "prompt_number": 2
    }
   ],
   "metadata": {}
  }
 ]
}