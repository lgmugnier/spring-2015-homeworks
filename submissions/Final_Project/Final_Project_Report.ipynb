{
 "metadata": {
  "name": "",
  "signature": "sha256:0c2950ca95416a072b99b0a008b2c7a4b708889ea69e97c45544f4fca12f4424"
 },
 "nbformat": 3,
 "nbformat_minor": 0,
 "worksheets": [
  {
   "cells": [
    {
     "cell_type": "heading",
     "level": 1,
     "metadata": {},
     "source": [
      "Hate the Player or Hate the Game?"
     ]
    },
    {
     "cell_type": "markdown",
     "metadata": {},
     "source": [
      "For my project, I decided to analyze the hostility in gaming forums.  Games have always been notorious for perpetuating violence and for the aggresive nature of players.  League of Legends, an online game where two teams of 3 or more fight to take the others' base, has recently hired a psychocologist and done very thorough analysis on their user community which has been deemed a very toxic environment.  This is true for a lot of games, there are players who refuse to participate in certain games because of the poor environment.  I wanted to find a more scientific approach to this discussion, an analysis of different forums to see which had more toxic environments and perhaps a reason behind this.  I hypothesized that it was the player's fault for being so aggressive, that the game didn't force them to behave a certain way.  \n",
      "\n",
      "Richard A. Bartle is an associate professor at the Univeristy of Essex wrote a book discussing and categorizing playertypes.  Bartle said that there were four main player types: Socializer, Explorer, Achiever, and Killer.  These types were deteremined based on a graph where the x-axis showed what players interacted with more, other players or the world, and the y-axis showed the level of interaction with the x-axis, from acting to interacting."
     ]
    },
    {
     "cell_type": "heading",
     "level": 2,
     "metadata": {},
     "source": [
      "Part I: Analysis of Hostility in Games"
     ]
    },
    {
     "cell_type": "markdown",
     "metadata": {},
     "source": [
      "The first point of exploration was whether there was a specific type of game that was more likely to have a hostile environment.  In order to do this, I scraped the top 100 most popular games on steam, a website that sells video games and hosts forums for them, and for each I then scraped the name, release date, app id (used for finding the game on steam's website)."
     ]
    },
    {
     "cell_type": "code",
     "collapsed": false,
     "input": [
      "import os\n",
      "import sys\n",
      "import time\n",
      "import argparse\n",
      "import requests\n",
      "from BeautifulSoup import BeautifulSoup\n",
      "\n",
      "%matplotlib inline\n",
      "import pandas as pd\n",
      "import seaborn as sns\n",
      "from datetime import datetime\n",
      "from matplotlib import pyplot as plt\n",
      "import numpy as np\n",
      "import sklearn.cluster as cluster\n",
      "from sklearn.cluster import KMeans"
     ],
     "language": "python",
     "metadata": {},
     "outputs": [],
     "prompt_number": 3
    },
    {
     "cell_type": "code",
     "collapsed": false,
     "input": [
      "statsurl = \"http://store.steampowered.com/stats/\"\n",
      "user_agent = \"Mozilla/5.0 (Macintosh; Intel Mac OS X 10_10_2) AppleWebKit/537.36 (KHTML, like Gecko) Chrome/41.0.2272.76 Safari/537.36\"\n",
      "\n",
      "#get_soup gets as input the url and returns a beautiful soup object soup\n",
      "def get_soup(url):\n",
      "    headers = {'User-Agent': user_agent}\n",
      "    response = requests.get(url, headers=headers)\n",
      "    html = response.text.encode('utf-8')\n",
      "    soup = BeautifulSoup(html)\n",
      "    return soup\n",
      "\n",
      "#get_release_date gets the game's main page url and returns the release date listed there.\n",
      "def get_release_date(href):\n",
      "    soup = get_soup(href)\n",
      "    datebox = soup.find(\"span\", {\"class\" : \"date\"})\n",
      "    if datebox:\n",
      "        date = datebox.text.encode(\"ascii\", \"ignore\")\n",
      "    else:\n",
      "        date = 0\n",
      "    return date\n",
      "\n",
      "#this is the main code, for each game in the top 100 most popular games, it scrapes the name and app number \n",
      "#from the site and gets the release date from the game home page\n",
      "games = []\n",
      "soup = get_soup(statsurl)\n",
      "gamebox = soup.findAll(\"tr\", {\"class\" : \"player_count_row\"})\n",
      "for g in gamebox:\n",
      "    info = g.find(\"a\", {\"class\": \"gameLink\"})\n",
      "    href = info.get('href')\n",
      "    name = info.text.encode(\"ascii\", \"ignore\")\n",
      "    date = get_release_date(href)\n",
      "    app = href.split(\"/\")[-2]\n",
      "    games.append([name, date, app])"
     ],
     "language": "python",
     "metadata": {},
     "outputs": [],
     "prompt_number": 4
    },
    {
     "cell_type": "markdown",
     "metadata": {},
     "source": [
      "After I had all of the game information, I could then go back in and scrape, for each game, the number of each of the badwords defined below.  I chose the badwords myself from several areas.  I know that words like \"shit\" and \"fuck\" and going to be very common but I also wanted to lookup homophobic (\"fag\"), racist(\"nigger\"), and sexist (\"cunt\") terms."
     ]
    },
    {
     "cell_type": "code",
     "collapsed": false,
     "input": [
      "badwords = [\"shit\", \"piss\", \"fuck\", \"cunt\", \"cock\", \"dick\", \"fag\", \"troll\", \"nigger\", \"pussy\", \"ass\"]"
     ],
     "language": "python",
     "metadata": {},
     "outputs": [],
     "prompt_number": 5
    },
    {
     "cell_type": "code",
     "collapsed": false,
     "input": [
      "swear_summary = {} #dictionary for games and the swear count for each\n",
      "for name, date, app in games:\n",
      "    print name\n",
      "    swears_per_game = {} #dictionary for the number of swears in a specific game\n",
      "    for word in badwords:\n",
      "        forum_url = \"http://steamcommunity.com/app/\" + str(app) + \"/discussions/search/?include_deleted=1&q=\" + word\n",
      "        soup = get_soup(forum_url)\n",
      "        \n",
      "        entries = soup.find(\"div\", {\"class\" : \"discussion_search_pagingcontrols\"})\n",
      "        if entries:\n",
      "            total = entries.text.encode(\"ascii\", \"ignore\").split(\";\")[-1].split(\" \")[3].replace(\",\", \"\")\n",
      "            swears_per_game[word] = int(total)\n",
      "\n",
      "    print swears_per_game\n",
      "    swear_summary[name] = swears_per_game"
     ],
     "language": "python",
     "metadata": {},
     "outputs": [
      {
       "output_type": "stream",
       "stream": "stdout",
       "text": [
        "Dota 2\n",
        "{'troll': 11350, 'ass': 4061, 'pussy': 367, 'dick': 1633, 'fuck': 16662, 'nigger': 91, 'shit': 13881, 'cock': 229, 'fag': 345, 'cunt': 465, 'piss': 2848}"
       ]
      },
      {
       "output_type": "stream",
       "stream": "stdout",
       "text": [
        "\n",
        "Counter-Strike: Global Offensive\n",
        "{'troll': 11871, 'ass': 3981, 'pussy': 566, 'dick': 1984, 'fuck': 21164, 'nigger': 110, 'shit': 18102, 'cock': 301, 'fag': 558, 'cunt': 865, 'piss': 3776}"
       ]
      },
      {
       "output_type": "stream",
       "stream": "stdout",
       "text": [
        "\n",
        "Grand Theft Auto V\n",
        "{'troll': 1520, 'ass': 1040, 'pussy': 89, 'dick': 415, 'fuck': 3698, 'nigger': 11, 'shit': 3167, 'cock': 49, 'fag': 68, 'cunt': 98, 'piss': 807}"
       ]
      },
      {
       "output_type": "stream",
       "stream": "stdout",
       "text": [
        "\n",
        "Team Fortress 2\n",
        "{'troll': 8322, 'ass': 4693, 'pussy': 258, 'dick': 1852, 'fuck': 13417, 'nigger': 108, 'shit': 11322, 'cock': 301, 'fag': 465, 'cunt': 337, 'piss': 3776}"
       ]
      },
      {
       "output_type": "stream",
       "stream": "stdout",
       "text": [
        "\n",
        "Football Manager 2015\n",
        "{'troll': 22, 'ass': 19, 'dick': 2, 'fuck': 60, 'cock': 1, 'fag': 1, 'shit': 56, 'piss': 25}"
       ]
      },
      {
       "output_type": "stream",
       "stream": "stdout",
       "text": [
        "\n",
        "The Elder Scrolls V: Skyrim\n",
        "{'troll': 1832, 'ass': 1386, 'pussy': 56, 'dick': 295, 'fuck': 2576, 'nigger': 7, 'shit': 2385, 'cock': 72, 'fag': 29, 'cunt': 74, 'piss': 943}"
       ]
      },
      {
       "output_type": "stream",
       "stream": "stdout",
       "text": [
        "\n",
        "Sid Meier's Civilization V\n",
        "{'troll': 223, 'ass': 326, 'pussy': 9, 'dick': 89, 'fuck': 546, 'nigger': 1, 'shit': 510, 'cock': 12, 'fag': 5, 'cunt': 15, 'piss': 367}"
       ]
      },
      {
       "output_type": "stream",
       "stream": "stdout",
       "text": [
        "\n",
        "Garry's Mod\n",
        "{'troll': 733, 'ass': 518, 'pussy': 34, 'dick': 294, 'fuck': 2311, 'nigger': 20, 'shit': 1697, 'cock': 39, 'fag': 63, 'cunt': 53, 'piss': 550}"
       ]
      },
      {
       "output_type": "stream",
       "stream": "stdout",
       "text": [
        "\n",
        "Arma 3\n",
        "{'troll': 1110, 'ass': 647, 'pussy': 27, 'dick': 206, 'fuck': 1498, 'nigger': 4, 'shit': 1711, 'cock': 31, 'fag': 30, 'cunt': 52, 'piss': 467}"
       ]
      },
      {
       "output_type": "stream",
       "stream": "stdout",
       "text": [
        "\n",
        "Warframe\n",
        "{'troll': 561, 'ass': 537, 'pussy': 20, 'dick': 101, 'fuck': 999, 'nigger': 1, 'shit': 1037, 'cock': 8, 'fag': 11, 'cunt': 20, 'piss': 350}"
       ]
      },
      {
       "output_type": "stream",
       "stream": "stdout",
       "text": [
        "\n",
        "Counter-Strike\n",
        "{'troll': 36, 'ass': 35, 'pussy': 1, 'dick': 16, 'fuck': 318, 'nigger': 2, 'shit': 222, 'cock': 3, 'fag': 3, 'cunt': 4, 'piss': 28}"
       ]
      },
      {
       "output_type": "stream",
       "stream": "stdout",
       "text": [
        "\n",
        "War Thunder\n",
        "{'troll': 603, 'ass': 412, 'pussy': 9, 'dick': 99, 'fuck': 756, 'nigger': 4, 'shit': 863, 'cock': 27, 'fag': 8, 'cunt': 8, 'piss': 263}"
       ]
      },
      {
       "output_type": "stream",
       "stream": "stdout",
       "text": [
        "\n",
        "AdVenture Capitalist\n",
        "{'troll': 17, 'ass': 8, 'dick': 3, 'fuck': 24, 'nigger': 1, 'cock': 1, 'shit': 22, 'piss': 7}"
       ]
      },
      {
       "output_type": "stream",
       "stream": "stdout",
       "text": [
        "\n",
        "Rust\n",
        "{'troll': 1295, 'ass': 913, 'pussy': 77, 'dick': 444, 'fuck': 2232, 'nigger': 14, 'shit': 2351, 'cock': 49, 'fag': 54, 'cunt': 116, 'piss': 582}"
       ]
      },
      {
       "output_type": "stream",
       "stream": "stdout",
       "text": [
        "\n",
        "H1Z1\n",
        "{'troll': 1212, 'ass': 713, 'pussy': 60, 'dick': 257, 'fuck': 2055, 'nigger': 7, 'shit': 2098, 'cock': 33, 'fag': 35, 'cunt': 63, 'piss': 496}"
       ]
      },
      {
       "output_type": "stream",
       "stream": "stdout",
       "text": [
        "\n",
        "Kerbal Space Program\n",
        "{'troll': 304, 'ass': 266, 'pussy': 7, 'dick': 60, 'fuck': 338, 'shit': 366, 'cock': 14, 'fag': 2, 'cunt': 3, 'piss': 124}"
       ]
      },
      {
       "output_type": "stream",
       "stream": "stdout",
       "text": [
        "\n",
        "Unturned\n",
        "{'troll': 854, 'ass': 525, 'pussy': 74, 'dick': 273, 'fuck': 1873, 'nigger': 13, 'shit': 1472, 'cock': 19, 'fag': 84, 'cunt': 61, 'piss': 253}"
       ]
      },
      {
       "output_type": "stream",
       "stream": "stdout",
       "text": [
        "\n",
        "Counter-Strike: Source\n",
        "{'troll': 72, 'ass': 66, 'pussy': 3, 'dick': 17, 'fuck': 264, 'nigger': 5, 'shit': 249, 'cock': 4, 'fag': 18, 'cunt': 13, 'piss': 54}"
       ]
      },
      {
       "output_type": "stream",
       "stream": "stdout",
       "text": [
        "\n",
        "Robocraft\n",
        "{'troll': 625, 'ass': 328, 'pussy': 18, 'dick': 96, 'fuck': 658, 'nigger': 2, 'shit': 671, 'cock': 8, 'fag': 13, 'cunt': 30, 'piss': 225}"
       ]
      },
      {
       "output_type": "stream",
       "stream": "stdout",
       "text": [
        "\n",
        "Cities: Skylines\n",
        "{'troll': 186, 'ass': 113, 'pussy': 2, 'dick': 20, 'fuck': 210, 'nigger': 1, 'shit': 285, 'cock': 1, 'fag': 1, 'cunt': 4, 'piss': 91}"
       ]
      },
      {
       "output_type": "stream",
       "stream": "stdout",
       "text": [
        "\n",
        "Football Manager 2014\n",
        "{}"
       ]
      },
      {
       "output_type": "stream",
       "stream": "stdout",
       "text": [
        "\n",
        "Total War: ROME II - Emperor Edition\n",
        "{'troll': 1690, 'ass': 1368, 'pussy': 55, 'dick': 251, 'fuck': 2954, 'nigger': 6, 'shit': 2848, 'cock': 67, 'fag': 42, 'cunt': 99, 'piss': 1110}"
       ]
      },
      {
       "output_type": "stream",
       "stream": "stdout",
       "text": [
        "\n",
        "PAYDAY 2\n",
        "{'troll': 2311, 'ass': 2345, 'pussy': 127, 'dick': 910, 'fuck': 5425, 'nigger': 13, 'shit': 4721, 'cock': 175, 'fag': 56, 'cunt': 149, 'piss': 1340}"
       ]
      },
      {
       "output_type": "stream",
       "stream": "stdout",
       "text": [
        "\n",
        "DayZ\n",
        "{'troll': 4426, 'ass': 3261, 'pussy': 389, 'dick': 1267, 'fuck': 8063, 'nigger': 28, 'shit': 8137, 'cock': 131, 'fag': 196, 'cunt': 314, 'piss': 2177}"
       ]
      },
      {
       "output_type": "stream",
       "stream": "stdout",
       "text": [
        "\n",
        "Euro Truck Simulator 2\n",
        "{'troll': 214, 'ass': 189, 'pussy': 6, 'dick': 42, 'fuck': 255, 'shit': 265, 'cock': 8, 'fag': 3, 'cunt': 8, 'piss': 124}"
       ]
      },
      {
       "output_type": "stream",
       "stream": "stdout",
       "text": [
        "\n",
        "Europa Universalis IV\n",
        "{'troll': 281, 'ass': 358, 'pussy': 9, 'dick': 44, 'fuck': 655, 'shit': 513, 'cock': 16, 'fag': 2, 'cunt': 6, 'piss': 320}"
       ]
      },
      {
       "output_type": "stream",
       "stream": "stdout",
       "text": [
        "\n",
        "Terraria\n",
        "{'troll': 724, 'ass': 421, 'pussy': 20, 'dick': 172, 'fuck': 880, 'nigger': 3, 'shit': 777, 'cock': 9, 'fag': 20, 'cunt': 16, 'piss': 198}"
       ]
      },
      {
       "output_type": "stream",
       "stream": "stdout",
       "text": [
        "\n",
        "Call of Duty: Advanced Warfare - Multiplayer\n",
        "{}"
       ]
      },
      {
       "output_type": "stream",
       "stream": "stdout",
       "text": [
        "\n",
        "Left 4 Dead 2\n",
        "{'troll': 1164, 'ass': 580, 'pussy': 39, 'dick': 256, 'fuck': 1154, 'nigger': 13, 'shit': 1074, 'cock': 29, 'fag': 48, 'cunt': 33, 'piss': 414}"
       ]
      },
      {
       "output_type": "stream",
       "stream": "stdout",
       "text": [
        "\n",
        "Killing Floor 2\n",
        "{'troll': 364, 'ass': 310, 'pussy': 20, 'dick': 96, 'fuck': 659, 'nigger': 9, 'shit': 616, 'cock': 46, 'fag': 16, 'cunt': 20, 'piss': 143}"
       ]
      },
      {
       "output_type": "stream",
       "stream": "stdout",
       "text": [
        "\n",
        "Call of Duty: Black Ops II - Multiplayer\n",
        "{}"
       ]
      },
      {
       "output_type": "stream",
       "stream": "stdout",
       "text": [
        "\n",
        "Borderlands 2\n",
        "{'troll': 1422, 'ass': 1029, 'pussy': 45, 'dick': 146, 'fuck': 1197, 'nigger': 1, 'shit': 1313, 'cock': 19, 'fag': 16, 'cunt': 19, 'piss': 481}"
       ]
      },
      {
       "output_type": "stream",
       "stream": "stdout",
       "text": [
        "\n",
        "Arma 2: Operation Arrowhead\n",
        "{'troll': 153, 'ass': 137, 'pussy': 4, 'dick': 66, 'fuck': 460, 'nigger': 2, 'shit': 382, 'cock': 10, 'fag': 15, 'cunt': 17, 'piss': 116}"
       ]
      },
      {
       "output_type": "stream",
       "stream": "stdout",
       "text": [
        "\n",
        "Mount &amp; Blade: Warband\n",
        "{'troll': 434, 'ass': 424, 'pussy': 22, 'dick': 85, 'fuck': 688, 'nigger': 5, 'shit': 622, 'cock': 11, 'fag': 14, 'cunt': 29, 'piss': 286}"
       ]
      },
      {
       "output_type": "stream",
       "stream": "stdout",
       "text": [
        "\n",
        "Path of Exile\n",
        "{'troll': 228, 'ass': 148, 'pussy': 4, 'dick': 32, 'fuck': 272, 'shit': 337, 'cock': 4, 'fag': 3, 'cunt': 5, 'piss': 97}"
       ]
      },
      {
       "output_type": "stream",
       "stream": "stdout",
       "text": [
        "\n",
        "The Binding of Isaac: Rebirth\n",
        "{'troll': 393, 'ass': 238, 'pussy': 8, 'dick': 64, 'fuck': 845, 'nigger': 1, 'shit': 604, 'cock': 9, 'fag': 11, 'cunt': 16, 'piss': 157}"
       ]
      },
      {
       "output_type": "stream",
       "stream": "stdout",
       "text": [
        "\n",
        "Total War: ATTILA\n",
        "{'troll': 266, 'ass': 238, 'pussy': 12, 'dick': 49, 'fuck': 566, 'nigger': 3, 'shit': 516, 'cock': 12, 'fag': 6, 'cunt': 19, 'piss': 194}"
       ]
      },
      {
       "output_type": "stream",
       "stream": "stdout",
       "text": [
        "\n",
        "Heroes &amp; Generals\n",
        "{'troll': 576, 'ass': 615, 'pussy': 44, 'dick': 166, 'fuck': 1261, 'nigger': 2, 'shit': 1257, 'cock': 24, 'fag': 26, 'cunt': 42, 'piss': 379}"
       ]
      },
      {
       "output_type": "stream",
       "stream": "stdout",
       "text": [
        "\n",
        "7 Days to Die\n",
        "{'troll': 612, 'ass': 520, 'pussy': 16, 'dick': 106, 'fuck': 617, 'shit': 792, 'cock': 18, 'fag': 5, 'cunt': 10, 'piss': 312}"
       ]
      },
      {
       "output_type": "stream",
       "stream": "stdout",
       "text": [
        "\n",
        "Pillars of Eternity\n",
        "{'troll': 378, 'ass': 258, 'pussy': 12, 'dick': 66, 'fuck': 376, 'shit': 405, 'cock': 6, 'fag': 5, 'cunt': 12, 'piss': 145}"
       ]
      },
      {
       "output_type": "stream",
       "stream": "stdout",
       "text": [
        "\n",
        "FreeStyle2: Street Basketball\n",
        "{'troll': 5, 'ass': 4, 'dick': 1, 'fuck': 19, 'nigger': 2, 'cock': 1, 'shit': 21, 'piss': 4}"
       ]
      },
      {
       "output_type": "stream",
       "stream": "stdout",
       "text": [
        "\n",
        "Don't Starve Together Beta\n",
        "{'troll': 59, 'ass': 17, 'dick': 11, 'fuck': 53, 'shit': 49, 'cock': 1, 'cunt': 2, 'piss': 10}"
       ]
      },
      {
       "output_type": "stream",
       "stream": "stdout",
       "text": [
        "\n",
        "Company of Heroes 2\n",
        "{'troll': 1128, 'ass': 1118, 'pussy': 51, 'dick': 185, 'fuck': 2087, 'nigger': 5, 'shit': 1990, 'cock': 33, 'fag': 45, 'cunt': 51, 'piss': 633}"
       ]
      },
      {
       "output_type": "stream",
       "stream": "stdout",
       "text": [
        "\n",
        "Marvel Heroes 2015\n",
        "{'troll': 202, 'ass': 115, 'dick': 24, 'fuck': 208, 'nigger': 1, 'shit': 223, 'cock': 2, 'fag': 1, 'cunt': 1, 'piss': 91}"
       ]
      },
      {
       "output_type": "stream",
       "stream": "stdout",
       "text": [
        "\n",
        "Mortal Kombat X\n",
        "{'troll': 363, 'ass': 349, 'pussy': 13, 'dick': 63, 'fuck': 976, 'nigger': 2, 'shit': 928, 'cock': 9, 'fag': 9, 'cunt': 16, 'piss': 244}"
       ]
      },
      {
       "output_type": "stream",
       "stream": "stdout",
       "text": [
        "\n",
        "DARK SOULS II: Scholar of the First Sin\n",
        "{'troll': 123, 'ass': 184, 'pussy': 5, 'dick': 37, 'fuck': 400, 'shit': 303, 'cock': 4, 'fag': 3, 'cunt': 10, 'piss': 92}"
       ]
      },
      {
       "output_type": "stream",
       "stream": "stdout",
       "text": [
        "\n",
        "Tom Clancy's Ghost Recon Phantoms - EU\n",
        "{}"
       ]
      },
      {
       "output_type": "stream",
       "stream": "stdout",
       "text": [
        "\n",
        "FINAL FANTASY XIV: A Realm Reborn\n",
        "{'troll': 75, 'ass': 66, 'pussy': 1, 'dick': 18, 'fuck': 115, 'cock': 2, 'fag': 2, 'shit': 107, 'piss': 34}"
       ]
      },
      {
       "output_type": "stream",
       "stream": "stdout",
       "text": [
        "\n",
        "Age of Empires II: HD Edition\n",
        "{'troll': 217, 'ass': 185, 'pussy': 13, 'dick': 28, 'fuck': 338, 'nigger': 4, 'shit': 352, 'cock': 3, 'fag': 5, 'cunt': 4, 'piss': 115}"
       ]
      },
      {
       "output_type": "stream",
       "stream": "stdout",
       "text": [
        "\n",
        "Elite: Dangerous\n",
        "{'troll': 120, 'ass': 89, 'dick': 15, 'fuck': 135, 'shit': 124, 'cock': 4, 'cunt': 1, 'piss': 53}"
       ]
      },
      {
       "output_type": "stream",
       "stream": "stdout",
       "text": [
        "\n",
        "Empire: Total War\n",
        "{'troll': 35, 'ass': 66, 'pussy': 6, 'dick': 11, 'fuck': 122, 'shit': 106, 'cock': 4, 'fag': 3, 'cunt': 3, 'piss': 56}"
       ]
      },
      {
       "output_type": "stream",
       "stream": "stdout",
       "text": [
        "\n",
        "Crusader Kings II\n",
        "{'troll': 134, 'ass': 273, 'pussy': 6, 'dick': 56, 'fuck': 452, 'nigger': 1, 'shit': 423, 'cock': 4, 'fag': 2, 'cunt': 5, 'piss': 323}"
       ]
      },
      {
       "output_type": "stream",
       "stream": "stdout",
       "text": [
        "\n",
        "Neverwinter\n",
        "{'troll': 52, 'ass': 33, 'pussy': 1, 'dick': 4, 'fuck': 74, 'shit': 93, 'piss': 27}"
       ]
      },
      {
       "output_type": "stream",
       "stream": "stdout",
       "text": [
        "\n",
        "Space Engineers\n",
        "{'troll': 721, 'ass': 468, 'pussy': 10, 'dick': 119, 'fuck': 613, 'shit': 825, 'cock': 41, 'fag': 2, 'cunt': 7, 'piss': 267}"
       ]
      },
      {
       "output_type": "stream",
       "stream": "stdout",
       "text": [
        "\n",
        "Fallout: New Vegas\n",
        "{'troll': 202, 'ass': 373, 'pussy': 18, 'dick': 129, 'fuck': 728, 'nigger': 3, 'shit': 623, 'cock': 12, 'fag': 7, 'cunt': 18, 'piss': 282}"
       ]
      },
      {
       "output_type": "stream",
       "stream": "stdout",
       "text": [
        "\n",
        "Starbound\n",
        "{'troll': 1133, 'ass': 559, 'pussy': 16, 'dick': 178, 'fuck': 995, 'shit': 1056, 'cock': 23, 'fag': 11, 'cunt': 31, 'piss': 377}"
       ]
      },
      {
       "output_type": "stream",
       "stream": "stdout",
       "text": [
        "\n",
        "Call of Duty: Modern Warfare 3 - Multiplayer\n",
        "{}"
       ]
      },
      {
       "output_type": "stream",
       "stream": "stdout",
       "text": [
        "\n",
        "Middle-earth: Shadow of Mordor\n",
        "{'troll': 363, 'ass': 290, 'pussy': 9, 'dick': 60, 'fuck': 586, 'shit': 519, 'cock': 10, 'fag': 2, 'cunt': 9, 'piss': 185}"
       ]
      },
      {
       "output_type": "stream",
       "stream": "stdout",
       "text": [
        "\n",
        "Counter-Strike Nexon: Zombies\n",
        "{'troll': 60, 'ass': 45, 'pussy': 4, 'dick': 4, 'fuck': 127, 'shit': 135, 'cock': 1, 'fag': 3, 'cunt': 1, 'piss': 30}"
       ]
      },
      {
       "output_type": "stream",
       "stream": "stdout",
       "text": [
        "\n",
        "Total War: SHOGUN 2\n",
        "{}"
       ]
      },
      {
       "output_type": "stream",
       "stream": "stdout",
       "text": [
        "\n",
        "XCOM: Enemy Unknown\n",
        "{'troll': 452, 'ass': 636, 'pussy': 21, 'dick': 165, 'fuck': 958, 'nigger': 1, 'shit': 867, 'cock': 20, 'fag': 6, 'cunt': 11, 'piss': 403}"
       ]
      },
      {
       "output_type": "stream",
       "stream": "stdout",
       "text": [
        "\n",
        "Warface\n",
        "{'troll': 41, 'ass': 54, 'pussy': 2, 'dick': 8, 'fuck': 109, 'nigger': 1, 'shit': 106, 'cock': 1, 'cunt': 4, 'piss': 35}"
       ]
      },
      {
       "output_type": "stream",
       "stream": "stdout",
       "text": [
        "\n",
        "ArcheAge\n",
        "{'troll': 171, 'ass': 82, 'pussy': 1, 'dick': 18, 'fuck': 176, 'nigger': 1, 'shit': 198, 'cock': 3, 'fag': 7, 'cunt': 7, 'piss': 61}"
       ]
      },
      {
       "output_type": "stream",
       "stream": "stdout",
       "text": [
        "\n",
        "Call of Duty: Modern Warfare 2 - Multiplayer\n",
        "{'troll': 12, 'ass': 19, 'pussy': 1, 'dick': 3, 'fuck': 52, 'shit': 36, 'fag': 3, 'cunt': 3, 'piss': 16}"
       ]
      },
      {
       "output_type": "stream",
       "stream": "stdout",
       "text": [
        "\n",
        "PlanetSide 2\n",
        "{'troll': 335, 'ass': 410, 'pussy': 16, 'dick': 69, 'fuck': 719, 'nigger': 3, 'shit': 806, 'cock': 8, 'fag': 17, 'cunt': 11, 'piss': 201}"
       ]
      },
      {
       "output_type": "stream",
       "stream": "stdout",
       "text": [
        "\n",
        "Farming Simulator 15\n",
        "{'troll': 81, 'ass': 61, 'dick': 5, 'fuck': 70, 'shit': 98, 'cock': 3, 'cunt': 1, 'piss': 42}"
       ]
      },
      {
       "output_type": "stream",
       "stream": "stdout",
       "text": [
        "\n",
        "Football Manager 2013\n",
        "{}"
       ]
      },
      {
       "output_type": "stream",
       "stream": "stdout",
       "text": [
        "\n",
        "NBA 2K15\n",
        "{'troll': 101, 'ass': 177, 'pussy': 28, 'dick': 47, 'fuck': 555, 'nigger': 2, 'shit': 496, 'cock': 5, 'fag': 7, 'cunt': 12, 'piss': 136}"
       ]
      },
      {
       "output_type": "stream",
       "stream": "stdout",
       "text": [
        "\n",
        "Saints Row IV\n",
        "{'troll': 150, 'ass': 210, 'pussy': 11, 'dick': 68, 'fuck': 486, 'nigger': 1, 'shit': 403, 'cock': 10, 'fag': 3, 'cunt': 10, 'piss': 198}"
       ]
      },
      {
       "output_type": "stream",
       "stream": "stdout",
       "text": [
        "\n",
        "Dark Souls: Prepare to Die Edition\n",
        "{'troll': 804, 'ass': 1369, 'pussy': 95, 'dick': 375, 'fuck': 2317, 'nigger': 4, 'shit': 2093, 'cock': 27, 'fag': 45, 'cunt': 61, 'piss': 553}"
       ]
      },
      {
       "output_type": "stream",
       "stream": "stdout",
       "text": [
        "\n",
        "Pro Evolution Soccer 2015\n",
        "{'troll': 26, 'ass': 48, 'pussy': 4, 'dick': 12, 'fuck': 249, 'shit': 212, 'cock': 3, 'cunt': 8, 'piss': 35}"
       ]
      },
      {
       "output_type": "stream",
       "stream": "stdout",
       "text": [
        "\n",
        "Block N Load\n",
        "{'troll': 65, 'ass': 16, 'dick': 5, 'fuck': 50, 'shit': 32, 'cunt': 2, 'piss': 18}"
       ]
      },
      {
       "output_type": "stream",
       "stream": "stdout",
       "text": [
        "\n",
        "Reign Of Kings\n",
        "{'troll': 306, 'ass': 135, 'pussy': 18, 'dick': 72, 'fuck': 355, 'nigger': 2, 'shit': 397, 'cock': 11, 'fag': 3, 'cunt': 24, 'piss': 102}"
       ]
      },
      {
       "output_type": "stream",
       "stream": "stdout",
       "text": [
        "\n",
        "The Witcher 2: Assassins of Kings Enhanced Edition\n",
        "{'troll': 158, 'ass': 136, 'pussy': 8, 'dick': 20, 'fuck': 235, 'shit': 238, 'cock': 10, 'cunt': 1, 'piss': 92}"
       ]
      },
      {
       "output_type": "stream",
       "stream": "stdout",
       "text": [
        "\n",
        "DARK SOULS II\n",
        "{'troll': 1868, 'ass': 1965, 'pussy': 175, 'dick': 781, 'fuck': 4087, 'nigger': 6, 'shit': 3602, 'cock': 63, 'fag': 112, 'cunt': 114, 'piss': 862}"
       ]
      },
      {
       "output_type": "stream",
       "stream": "stdout",
       "text": [
        "\n",
        "Sid Meier's Civilization: Beyond Earth\n",
        "{'troll': 189, 'ass': 144, 'pussy': 8, 'dick': 35, 'fuck': 225, 'shit': 233, 'cock': 6, 'fag': 1, 'cunt': 14, 'piss': 117}"
       ]
      },
      {
       "output_type": "stream",
       "stream": "stdout",
       "text": [
        "\n",
        "Dungeon Defenders II\n",
        "{'troll': 66, 'ass': 21, 'dick': 3, 'fuck': 48, 'shit': 59, 'piss': 17}"
       ]
      },
      {
       "output_type": "stream",
       "stream": "stdout",
       "text": [
        "\n",
        "Star Trek Online\n",
        "{'troll': 70, 'ass': 52, 'pussy': 1, 'dick': 6, 'fuck': 55, 'shit': 72, 'cock': 1, 'cunt': 2, 'piss': 35}"
       ]
      },
      {
       "output_type": "stream",
       "stream": "stdout",
       "text": [
        "\n",
        "Tom Clancy's Ghost Recon Phantoms - NA\n",
        "{'troll': 75, 'ass': 82, 'pussy': 2, 'dick': 21, 'fuck': 192, 'shit': 218, 'fag': 7, 'cunt': 3, 'piss': 80}"
       ]
      },
      {
       "output_type": "stream",
       "stream": "stdout",
       "text": [
        "\n",
        "Don't Starve\n",
        "{'troll': 206, 'ass': 132, 'pussy': 7, 'dick': 24, 'fuck': 222, 'nigger': 2, 'shit': 216, 'cock': 4, 'fag': 3, 'cunt': 6, 'piss': 83}"
       ]
      },
      {
       "output_type": "stream",
       "stream": "stdout",
       "text": [
        "\n",
        "Dying Light\n",
        "{'troll': 474, 'ass': 371, 'pussy': 43, 'dick': 101, 'fuck': 907, 'nigger': 2, 'shit': 921, 'cock': 9, 'fag': 14, 'cunt': 32, 'piss': 271}"
       ]
      },
      {
       "output_type": "stream",
       "stream": "stdout",
       "text": [
        "\n",
        "APB Reloaded\n",
        "{'troll': 175, 'ass': 199, 'pussy': 7, 'dick': 44, 'fuck': 409, 'nigger': 1, 'shit': 433, 'cock': 6, 'fag': 13, 'cunt': 9, 'piss': 101}"
       ]
      },
      {
       "output_type": "stream",
       "stream": "stdout",
       "text": [
        "\n",
        "Star Wars - Battlefront II\n",
        "{'troll': 48, 'ass': 70, 'pussy': 5, 'dick': 31, 'fuck': 219, 'nigger': 1, 'shit': 173, 'cock': 4, 'cunt': 7, 'piss': 86}"
       ]
      },
      {
       "output_type": "stream",
       "stream": "stdout",
       "text": [
        "\n",
        "Age of Wonders III\n",
        "{'troll': 183, 'ass': 93, 'pussy': 3, 'dick': 26, 'fuck': 129, 'shit': 97, 'fag': 1, 'cunt': 2, 'piss': 59}"
       ]
      },
      {
       "output_type": "stream",
       "stream": "stdout",
       "text": [
        "\n",
        "Company of Heroes (New Steam Version)\n",
        "{}"
       ]
      },
      {
       "output_type": "stream",
       "stream": "stdout",
       "text": [
        "\n",
        "The Elder Scrolls Online: Tamriel Unlimited\n",
        "{'troll': 75, 'ass': 30, 'dick': 9, 'fuck': 101, 'shit': 85, 'fag': 2, 'cunt': 2, 'piss': 33}"
       ]
      },
      {
       "output_type": "stream",
       "stream": "stdout",
       "text": [
        "\n",
        "BLOCKADE 3D\n",
        "{'troll': 37, 'ass': 18, 'dick': 6, 'fuck': 50, 'nigger': 2, 'shit': 51, 'cock': 4, 'fag': 2, 'cunt': 1, 'piss': 7}"
       ]
      },
      {
       "output_type": "stream",
       "stream": "stdout",
       "text": [
        "\n",
        "Survarium\n",
        "{'troll': 46, 'ass': 22, 'pussy': 2, 'dick': 1, 'fuck': 45, 'shit': 54, 'cock': 2, 'cunt': 1, 'piss': 23}"
       ]
      },
      {
       "output_type": "stream",
       "stream": "stdout",
       "text": [
        "\n",
        "Endless Legend\n",
        "{'troll': 56, 'ass': 67, 'pussy': 2, 'dick': 10, 'fuck': 74, 'shit': 74, 'cock': 2, 'fag': 2, 'cunt': 2, 'piss': 30}"
       ]
      },
      {
       "output_type": "stream",
       "stream": "stdout",
       "text": [
        "\n",
        "Besiege\n",
        "{'troll': 13, 'ass': 17, 'dick': 5, 'fuck': 26, 'shit': 30, 'piss': 2}"
       ]
      },
      {
       "output_type": "stream",
       "stream": "stdout",
       "text": [
        "\n",
        "Football Manager 2012\n",
        "{}"
       ]
      },
      {
       "output_type": "stream",
       "stream": "stdout",
       "text": [
        "\n",
        "Saints Row: The Third\n",
        "{'troll': 38, 'ass': 58, 'pussy': 3, 'dick': 20, 'fuck': 204, 'shit': 180, 'cock': 1, 'cunt': 5, 'piss': 80}"
       ]
      },
      {
       "output_type": "stream",
       "stream": "stdout",
       "text": [
        "\n",
        "Transformice\n",
        "{'troll': 10, 'ass': 1, 'dick': 1, 'fuck': 8, 'shit': 5}"
       ]
      },
      {
       "output_type": "stream",
       "stream": "stdout",
       "text": [
        "\n",
        "Napoleon: Total War\n",
        "{'troll': 23, 'ass': 31, 'pussy': 3, 'dick': 7, 'fuck': 55, 'nigger': 1, 'shit': 65, 'cock': 4, 'fag': 2, 'cunt': 3, 'piss': 17}"
       ]
      },
      {
       "output_type": "stream",
       "stream": "stdout",
       "text": [
        "\n",
        "Far Cry 3\n",
        "{'troll': 123, 'ass': 202, 'pussy': 13, 'dick': 31, 'fuck': 558, 'shit': 524, 'cock': 8, 'fag': 7, 'cunt': 8, 'piss': 172}"
       ]
      },
      {
       "output_type": "stream",
       "stream": "stdout",
       "text": [
        "\n",
        "Borderlands: The Pre-Sequel\n",
        "{'troll': 276, 'ass': 338, 'pussy': 9, 'dick': 79, 'fuck': 608, 'nigger': 1, 'shit': 510, 'cock': 15, 'fag': 7, 'cunt': 14, 'piss': 192}"
       ]
      },
      {
       "output_type": "stream",
       "stream": "stdout",
       "text": [
        "\n",
        "The Mighty Quest For Epic Loot\n",
        "{'troll': 72, 'ass': 60, 'dick': 17, 'fuck': 152, 'shit': 159, 'fag': 2, 'cunt': 1, 'piss': 37}"
       ]
      },
      {
       "output_type": "stream",
       "stream": "stdout",
       "text": [
        "\n",
        "Call of Duty: World at War\n",
        "{'troll': 30, 'ass': 57, 'pussy': 3, 'dick': 19, 'fuck': 144, 'nigger': 1, 'shit': 125, 'cock': 1, 'fag': 3, 'cunt': 2, 'piss': 29}"
       ]
      },
      {
       "output_type": "stream",
       "stream": "stdout",
       "text": [
        "\n",
        "Killing Floor\n",
        "{'troll': 422, 'ass': 310, 'pussy': 21, 'dick': 101, 'fuck': 640, 'nigger': 3, 'shit': 601, 'cock': 17, 'fag': 20, 'cunt': 21, 'piss': 223}"
       ]
      },
      {
       "output_type": "stream",
       "stream": "stdout",
       "text": [
        "\n"
       ]
      }
     ],
     "prompt_number": 6
    },
    {
     "cell_type": "code",
     "collapsed": false,
     "input": [
      "#add the total swears for each game to the games dictionary\n",
      "for game in games:\n",
      "    total = 0\n",
      "    swear_list = swear_summary[game[0]]\n",
      "    for swear in swear_list:\n",
      "        total += swear_list[swear]\n",
      "    game.append(total)"
     ],
     "language": "python",
     "metadata": {},
     "outputs": [],
     "prompt_number": 10
    },
    {
     "cell_type": "markdown",
     "metadata": {},
     "source": [
      "After I got the total number for each instance in a specific game, I then counted the total number of swears for all games."
     ]
    },
    {
     "cell_type": "code",
     "collapsed": false,
     "input": [
      "total_swears = {} #dictionary to keep track of total number of swears found over all games\n",
      "for word in badwords: #set each swear count to 0\n",
      "    total_swears[word] = 0\n",
      "for key in swear_summary: #go through each game add all counts together for each swear\n",
      "    swear_list = swear_summary[key]\n",
      "    for swear in swear_list:\n",
      "        total_swears[swear] += swear_list[swear]\n",
      "print total_swears\n",
      "\n",
      "num_total_swears = 0\n",
      "for swear in total_swears:\n",
      "    num_total_swears += total_swears[swear]\n",
      "print num_total_swears"
     ],
     "language": "python",
     "metadata": {},
     "outputs": [
      {
       "output_type": "stream",
       "stream": "stdout",
       "text": [
        "{'troll': 70653, 'ass': 44953, 'pussy': 3174, 'dick': 15162, 'fuck': 121503, 'nigger': 541, 'shit': 109992, 'cock': 2198, 'fag': 2661, 'cunt': 3658, 'piss': 31296}\n",
        "405791\n"
       ]
      }
     ],
     "prompt_number": 9
    },
    {
     "cell_type": "markdown",
     "metadata": {},
     "source": [
      "I took the scraped and calculated data and put it into a pandas DataFrame for further analysis."
     ]
    },
    {
     "cell_type": "code",
     "collapsed": false,
     "input": [
      "narray = np.array(games)\n",
      "gamedata = pd.DataFrame(narray, columns=['Game', 'Release_Date', 'App_ID' , 'Total_Swears'])"
     ],
     "language": "python",
     "metadata": {},
     "outputs": [],
     "prompt_number": 11
    },
    {
     "cell_type": "markdown",
     "metadata": {},
     "source": [
      "There is a fault in my dataset where I couldn't find a way around the age checker for sites of games with a Mature rating.  Therefore I have manually inserted several of the release dates."
     ]
    },
    {
     "cell_type": "code",
     "collapsed": false,
     "input": [
      "gamedata.loc[2,'Release_Date'] = \"Apr 14, 2015\"\n",
      "gamedata.loc[4,'Release_Date'] = \"Nov 10, 2011\"\n",
      "gamedata.loc[7,'Release_Date'] = \"Mar 25, 2013\"\n",
      "gamedata.loc[11,'Release_Date'] = \"Sep 12, 2013\"\n",
      "gamedata.loc[15,'Release_Date'] = \"Dec 11, 2013\"\n",
      "gamedata.loc[16,'Release_Date'] = \"Apr 21, 2015\"\n",
      "gamedata.loc[23,'Release_Date'] = \"Aug 13, 2013\"\n",
      "gamedata.loc[30,'Release_Date'] = \"Sep 17, 2012\"\n",
      "gamedata.loc[37,'Release_Date'] = \"Jun 29, 2009\"\n",
      "gamedata.loc[40,'Release_Date'] = \"Apr 25, 2014\"\n",
      "gamedata.loc[48,'Release_Date'] = \"Oct 19, 2010\"\n",
      "gamedata.loc[50,'Release_Date'] = \"Apr 13, 2015\"\n",
      "gamedata.loc[52,'Release_Date'] = \"Jun 25, 2013\"\n",
      "gamedata.loc[53,'Release_Date'] = \"Dec 16, 2013\"\n",
      "gamedata.loc[59,'Release_Date'] = \"Oct 8, 2012\"\n",
      "gamedata.loc[62,'Release_Date'] = \"Nov 12, 2012\"\n",
      "gamedata.loc[63,'Release_Date'] = \"Apr 4, 2014\"\n",
      "gamedata.loc[64,'Release_Date'] = \"Dec 6, 2007\"\n",
      "gamedata.loc[73,'Release_Date'] = \"Aug 23, 2012\"\n",
      "gamedata.loc[76,'Release_Date'] = \"Nov 8, 2011\"\n",
      "gamedata.loc[84,'Release_Date'] = \"Dec 4, 2012\"\n",
      "gamedata.loc[85,'Release_Date'] = \"May 17, 2011\"\n",
      "gamedata.loc[86,'Release_Date'] = \"Nov 1, 2014\"\n",
      "gamedata.loc[88,'Release_Date'] = \"Dec 2, 2008\""
     ],
     "language": "python",
     "metadata": {},
     "outputs": [],
     "prompt_number": 13
    },
    {
     "cell_type": "code",
     "collapsed": false,
     "input": [
      "gamedata.Total_Swears = gamedata.Total_Swears.astype(int)\n",
      "print gamedata.info()"
     ],
     "language": "python",
     "metadata": {},
     "outputs": [
      {
       "output_type": "stream",
       "stream": "stdout",
       "text": [
        "<class 'pandas.core.frame.DataFrame'>\n",
        "Int64Index: 99 entries, 0 to 98\n",
        "Data columns (total 4 columns):\n",
        "Game            99 non-null object\n",
        "Release_Date    99 non-null object\n",
        "App_ID          99 non-null object\n",
        "Total_Swears    99 non-null int32\n",
        "dtypes: int32(1), object(3)\n",
        "memory usage: 3.5+ KB\n",
        "None\n"
       ]
      }
     ],
     "prompt_number": 14
    },
    {
     "cell_type": "markdown",
     "metadata": {},
     "source": [
      "Below, to get a sense of the popularity of the swear words as a whole, I graphed the total swears over all games"
     ]
    },
    {
     "cell_type": "code",
     "collapsed": false,
     "input": [
      "plt.bar(range(len(total_swears)), total_swears.values(), align='center')\n",
      "plt.xticks(range(len(total_swears)), total_swears.keys())\n",
      "plt.show()"
     ],
     "language": "python",
     "metadata": {},
     "outputs": [
      {
       "metadata": {},
       "output_type": "display_data",
       "png": "[encoded data removed]",
       "text": [
        "<matplotlib.figure.Figure at 0x195944a8>"
       ]
      }
     ],
     "prompt_number": 15
    },
    {
     "cell_type": "markdown",
     "metadata": {},
     "source": [
      "For a basic idea of how many swears were found accross all surveyed games, I graphed the games versus the number of swears said in each game"
     ]
    },
    {
     "cell_type": "code",
     "collapsed": false,
     "input": [
      "gamedata.plot(x='Game', y='Total_Swears', kind = 'bar', figsize = {20, 5})"
     ],
     "language": "python",
     "metadata": {},
     "outputs": [
      {
       "metadata": {},
       "output_type": "pyout",
       "prompt_number": 16,
       "text": [
        "<matplotlib.axes._subplots.AxesSubplot at 0x1729e630>"
       ]
      },
      {
       "metadata": {},
       "output_type": "display_data",
       "png": "[encoded data removed]",
       "text": [
        "<matplotlib.figure.Figure at 0x175e7e10>"
       ]
      }
     ],
     "prompt_number": 16
    },
    {
     "cell_type": "markdown",
     "metadata": {},
     "source": [
      "Next I wanted to get an idea of the variety in swears.  I saw that not all games used all the swears, perhaps some swears, such as the racist or sexist terms, appeared less in certain games because their players were less sexist or racist."
     ]
    },
    {
     "cell_type": "code",
     "collapsed": false,
     "input": [
      "variety = []\n",
      "for name, date, app, swears in games:\n",
      "    variety.append(len(swear_summary[name].keys()))\n",
      "vararray = np.array(variety)"
     ],
     "language": "python",
     "metadata": {},
     "outputs": [],
     "prompt_number": 17
    },
    {
     "cell_type": "code",
     "collapsed": false,
     "input": [
      "gamedata['Swear_Variety'] = vararray"
     ],
     "language": "python",
     "metadata": {},
     "outputs": [],
     "prompt_number": 18
    },
    {
     "cell_type": "code",
     "collapsed": false,
     "input": [
      "varietygroup = gamedata.groupby('Swear_Variety').count()\n",
      "varietygroup.plot()\n",
      "#gamedata.plot(x = 'Game', y = 'Swear_Variety', kind = 'bar', figsize = {20,5})"
     ],
     "language": "python",
     "metadata": {},
     "outputs": [
      {
       "metadata": {},
       "output_type": "pyout",
       "prompt_number": 19,
       "text": [
        "<matplotlib.axes._subplots.AxesSubplot at 0x18367be0>"
       ]
      },
      {
       "metadata": {},
       "output_type": "display_data",
       "png": "[encoded data removed]",
       "text": [
        "<matplotlib.figure.Figure at 0x1729e7f0>"
       ]
      }
     ],
     "prompt_number": 19
    },
    {
     "cell_type": "markdown",
     "metadata": {},
     "source": [
      "I then realized that the number of swears could not be compared because different forums had different levels of popularity.  Thus I scraped the number of threads (separate lines of discussions) in each of the forums and added that to the pandas DataFrame."
     ]
    },
    {
     "cell_type": "code",
     "collapsed": false,
     "input": [
      "total_threads = []\n",
      "for name, date, app, swears in games:\n",
      "    dis_url = \"http://steamcommunity.com/app/\" + app + \"/discussions/\"\n",
      "    soup = get_soup(dis_url)\n",
      "    threads = soup.find(\"div\", {\"class\" : \"forum_paging_summary\"})\n",
      "    if threads:\n",
      "        num_threads = threads.text.encode(\"ascii\",\"ignore\").split(\"of\")[1].replace(\",\",\"\").replace(\"entries\", \"\")\n",
      "    else:\n",
      "        num_threads = 1\n",
      "    total_threads.append(int(num_threads))\n",
      "\n",
      "gamedata['Total_Threads'] = np.array(total_threads)\n",
      "print gamedata.head(10)"
     ],
     "language": "python",
     "metadata": {},
     "outputs": [
      {
       "output_type": "stream",
       "stream": "stdout",
       "text": [
        "                               Game  Release_Date  App_ID  Total_Swears  \\\n",
        "0                            Dota 2   Jul 9, 2013     570         51932   \n",
        "1  Counter-Strike: Global Offensive  Aug 21, 2012     730         63278   \n",
        "2                Grand Theft Auto V  Apr 14, 2015  271590         10962   \n",
        "3                   Team Fortress 2  Oct 10, 2007     440         44851   \n",
        "4             Football Manager 2015  Nov 10, 2011  295270           186   \n",
        "5       The Elder Scrolls V: Skyrim             0   72850          9655   \n",
        "6        Sid Meier's Civilization V  Sep 21, 2010    8930          2103   \n",
        "7                       Garry's Mod  Mar 25, 2013    4000          6312   \n",
        "8                            Arma 3             0  107410          5783   \n",
        "9                          Warframe             0  230410          3645   \n",
        "\n",
        "   Swear_Variety  Total_Threads  \n",
        "0             11           6334  \n",
        "1             11          26625  \n",
        "2             11          40620  \n",
        "3             11           5810  \n",
        "4              8            299  \n",
        "5             11           6284  \n",
        "6             11            514  \n",
        "7             11           2289  \n",
        "8             11            842  \n",
        "9             11            630  \n"
       ]
      }
     ],
     "prompt_number": 20
    },
    {
     "cell_type": "markdown",
     "metadata": {},
     "source": [
      "Finally, to complete my data set I created a column in the DataFrame where I divided the number of swears by the number of threads thus giving a swear to thread ratio which would allowed me a point of comparison between larger and smaller forums"
     ]
    },
    {
     "cell_type": "code",
     "collapsed": false,
     "input": [
      "ratio = gamedata.apply(lambda row: row['Total_Swears']/float(row['Total_Threads']), axis=1)\n",
      "gamedata['Swear_Thread_Ratio'] = ratio\n",
      "print gamedata.head(10)"
     ],
     "language": "python",
     "metadata": {},
     "outputs": [
      {
       "output_type": "stream",
       "stream": "stdout",
       "text": [
        "                               Game  Release_Date  App_ID  Total_Swears  \\\n",
        "0                            Dota 2   Jul 9, 2013     570         51932   \n",
        "1  Counter-Strike: Global Offensive  Aug 21, 2012     730         63278   \n",
        "2                Grand Theft Auto V  Apr 14, 2015  271590         10962   \n",
        "3                   Team Fortress 2  Oct 10, 2007     440         44851   \n",
        "4             Football Manager 2015  Nov 10, 2011  295270           186   \n",
        "5       The Elder Scrolls V: Skyrim             0   72850          9655   \n",
        "6        Sid Meier's Civilization V  Sep 21, 2010    8930          2103   \n",
        "7                       Garry's Mod  Mar 25, 2013    4000          6312   \n",
        "8                            Arma 3             0  107410          5783   \n",
        "9                          Warframe             0  230410          3645   \n",
        "\n",
        "   Swear_Variety  Total_Threads  Swear_Thread_Ratio  \n",
        "0             11           6334            8.198926  \n",
        "1             11          26625            2.376638  \n",
        "2             11          40620            0.269867  \n",
        "3             11           5810            7.719621  \n",
        "4              8            299            0.622074  \n",
        "5             11           6284            1.536442  \n",
        "6             11            514            4.091440  \n",
        "7             11           2289            2.757536  \n",
        "8             11            842            6.868171  \n",
        "9             11            630            5.785714  \n"
       ]
      }
     ],
     "prompt_number": 21
    },
    {
     "cell_type": "code",
     "collapsed": false,
     "input": [
      "print gamedata.info()"
     ],
     "language": "python",
     "metadata": {},
     "outputs": [
      {
       "output_type": "stream",
       "stream": "stdout",
       "text": [
        "<class 'pandas.core.frame.DataFrame'>\n",
        "Int64Index: 99 entries, 0 to 98\n",
        "Data columns (total 7 columns):\n",
        "Game                  99 non-null object\n",
        "Release_Date          99 non-null object\n",
        "App_ID                99 non-null object\n",
        "Total_Swears          99 non-null int32\n",
        "Swear_Variety         99 non-null int32\n",
        "Total_Threads         99 non-null int32\n",
        "Swear_Thread_Ratio    99 non-null float64\n",
        "dtypes: float64(1), int32(3), object(3)\n",
        "memory usage: 5.0+ KB\n",
        "None\n"
       ]
      }
     ],
     "prompt_number": 22
    },
    {
     "cell_type": "markdown",
     "metadata": {},
     "source": [
      "With my more elaborate dataset I could re-graph the game vs. number of swears graph I showed above to allow for a more normalized data.  I remove the game Payday 2 from my dataset because the information was incorrectly scraped due to a different organization of the forum as opposed to the rest of the games."
     ]
    },
    {
     "cell_type": "code",
     "collapsed": false,
     "input": [
      "gamedata = gamedata[gamedata.Game != 'PAYDAY 2']\n",
      "gamedata.plot(x='Game', y='Swear_Thread_Ratio', kind = 'bar', figsize = {20, 5})"
     ],
     "language": "python",
     "metadata": {},
     "outputs": [
      {
       "metadata": {},
       "output_type": "pyout",
       "prompt_number": 27,
       "text": [
        "<matplotlib.axes._subplots.AxesSubplot at 0x193822b0>"
       ]
      },
      {
       "metadata": {},
       "output_type": "display_data",
       "png": "[encoded data removed]",
       "text": [
        "<matplotlib.figure.Figure at 0x18bc67b8>"
       ]
      }
     ],
     "prompt_number": 27
    },
    {
     "cell_type": "markdown",
     "metadata": {},
     "source": [
      "Then I took the top 23 swear to thread ratios and graphed them again"
     ]
    },
    {
     "cell_type": "code",
     "collapsed": false,
     "input": [
      "gamedatasift = gamedata[gamedata.Swear_Thread_Ratio > 5]\n",
      "gamedatasift.plot(x='Game', y='Swear_Thread_Ratio', kind = 'bar', figsize = {20, 5})\n"
     ],
     "language": "python",
     "metadata": {},
     "outputs": [
      {
       "metadata": {},
       "output_type": "pyout",
       "prompt_number": 29,
       "text": [
        "<matplotlib.axes._subplots.AxesSubplot at 0x1ef75588>"
       ]
      },
      {
       "metadata": {},
       "output_type": "display_data",
       "png": "[encoded data removed]",
       "text": [
        "<matplotlib.figure.Figure at 0x176d7160>"
       ]
      }
     ],
     "prompt_number": 29
    },
    {
     "cell_type": "markdown",
     "metadata": {},
     "source": [
      "Because I play a lot of games I was able to recognize a pattern in the above graph.  The majority of these games are Multiplayer games, which means that they encourage interaction between players.  I found that of the game listed in the above graph, 1/3 were not multiplayer games.  This graph insinuates that it is multiplayer games that encourage more hostile environments, but then I noteiced that the 1st and 3rd highest swear/thread ratios belonged to non-multiplayer games by a large margin.  This made me consider the evidence inconclusive.   It did seem true that multiplayer games had a tendency to have more hostile forums but this does not explain the high ratios among non-multiplayer games.\n",
      "\n",
      "So, I wanted to analyze the games purely on the normalized swear numbers.  For each game I had counted the number of each of the swears, I then divided this number by the total number of swears in that particular game and I got the fractional amount each swear was said."
     ]
    },
    {
     "cell_type": "code",
     "collapsed": false,
     "input": [
      "swearlist = []\n",
      "for game, date, app_id, total in games:\n",
      "    entry = [total/float(num_total_swears)]\n",
      "    swears = swear_summary[game]\n",
      "    for word in badwords:\n",
      "        if word in swears:\n",
      "            entry.append(swears[word]/float(total))\n",
      "        else:\n",
      "            entry.append(0)\n",
      "    swearlist.append(entry)\n",
      "\n",
      "npswear = np.array(swearlist)\n",
      "sweardata = pd.DataFrame(npswear, columns = ['total', 'shit', 'piss',\n",
      "                                             'fuck','cunt','cock','dick','fag','troll','nigger','pussy','ass'])\n",
      "print sweardata.head(10)"
     ],
     "language": "python",
     "metadata": {},
     "outputs": [
      {
       "output_type": "stream",
       "stream": "stdout",
       "text": [
        "      total      shit      piss      fuck      cunt      cock      dick  \\\n",
        "0  0.127977  0.267292  0.054841  0.320843  0.008954  0.004410  0.031445   \n",
        "1  0.155937  0.286071  0.059673  0.334461  0.013670  0.004757  0.031354   \n",
        "2  0.027014  0.288907  0.073618  0.337347  0.008940  0.004470  0.037858   \n",
        "3  0.110527  0.252436  0.084190  0.299146  0.007514  0.006711  0.041292   \n",
        "4  0.000458  0.301075  0.134409  0.322581  0.000000  0.005376  0.010753   \n",
        "5  0.023793  0.247022  0.097670  0.266805  0.007664  0.007457  0.030554   \n",
        "6  0.005182  0.242511  0.174513  0.259629  0.007133  0.005706  0.042320   \n",
        "7  0.015555  0.268853  0.087136  0.366128  0.008397  0.006179  0.046578   \n",
        "8  0.014251  0.295867  0.080754  0.259035  0.008992  0.005361  0.035622   \n",
        "9  0.008982  0.284499  0.096022  0.274074  0.005487  0.002195  0.027709   \n",
        "\n",
        "        fag     troll    nigger     pussy       ass  \n",
        "0  0.006643  0.218555  0.001752  0.007067  0.078198  \n",
        "1  0.008818  0.187601  0.001738  0.008945  0.062913  \n",
        "2  0.006203  0.138661  0.001003  0.008119  0.094873  \n",
        "3  0.010368  0.185548  0.002408  0.005752  0.104635  \n",
        "4  0.005376  0.118280  0.000000  0.000000  0.102151  \n",
        "5  0.003004  0.189746  0.000725  0.005800  0.143553  \n",
        "6  0.002378  0.106039  0.000476  0.004280  0.155017  \n",
        "7  0.009981  0.116128  0.003169  0.005387  0.082066  \n",
        "8  0.005188  0.191942  0.000692  0.004669  0.111880  \n",
        "9  0.003018  0.153909  0.000274  0.005487  0.147325  \n"
       ]
      }
     ],
     "prompt_number": 30
    },
    {
     "cell_type": "markdown",
     "metadata": {},
     "source": [
      "I analyze this data using k-means clustering, in this case I created 3 clusters.  Games that were clustered together would have a similar swear make-up to their forum and thereby classify them as a more aggressive or less aggressive environment."
     ]
    },
    {
     "cell_type": "code",
     "collapsed": false,
     "input": [
      "error = np.zeros(20)\n",
      "error[0] = 0;\n",
      "for k in range(1,20):\n",
      "    kmeans = KMeans(init='k-means++', n_clusters=k, n_init=20)\n",
      "    kmeans.fit_predict(sweardata)\n",
      "    error[k] = kmeans.inertia_\n",
      "\n",
      "plt.plot(range(1,len(error)),error[1:])\n",
      "plt.xlabel('Number of clusters')\n",
      "plt.ylabel('Error')"
     ],
     "language": "python",
     "metadata": {},
     "outputs": [
      {
       "metadata": {},
       "output_type": "pyout",
       "prompt_number": 31,
       "text": [
        "<matplotlib.text.Text at 0x1f3b4898>"
       ]
      },
      {
       "metadata": {},
       "output_type": "display_data",
       "png": "[encoded data removed]",
       "text": [
        "<matplotlib.figure.Figure at 0x1a4d95f8>"
       ]
      }
     ],
     "prompt_number": 31
    },
    {
     "cell_type": "markdown",
     "metadata": {},
     "source": [
      "As seen in the graph above there is a clear distinction at clusterings with 2 clusters and with 3 clusters.  This is unusual in random data, so it means there there must be some defined groups.  I chose three clusters hoping to separate hostile environments from less hostile environments and finally the few games which did not have a forum."
     ]
    },
    {
     "cell_type": "code",
     "collapsed": false,
     "input": [
      "kmeans = KMeans(init='k-means++', n_clusters=3, n_init=100)\n",
      "kmeans.fit_predict(sweardata)\n",
      "centroids = kmeans.cluster_centers_\n",
      "labels = kmeans.labels_\n",
      "error = kmeans.inertia_\n",
      "\n",
      "print \"The total error of the clustering is: \", error\n",
      "print labels"
     ],
     "language": "python",
     "metadata": {},
     "outputs": [
      {
       "output_type": "stream",
       "stream": "stdout",
       "text": [
        "The total error of the clustering is:  0.589988378977\n",
        "[2 0 0 2 0 2 0 0 2 0 0 2 2 0 0 2 0 0 2 2 1 0 0 0 2 0 2 1 2 0 1 2 0 2 2 0 0\n",
        " 0 2 2 0 2 0 2 0 0 1 2 2 2 0 0 2 2 0 2 1 2 0 1 0 0 2 0 0 2 1 0 0 0 0 2 2 2\n",
        " 0 2 2 2 0 2 0 0 0 2 1 2 2 2 2 0 1 0 2 0 0 0 0 0 2]\n"
       ]
      }
     ],
     "prompt_number": 32
    },
    {
     "cell_type": "code",
     "collapsed": false,
     "input": [
      "i = 0\n",
      "labelled = [[],[],[]]\n",
      "while i < len(labels):\n",
      "    name = games[i][0]\n",
      "    labelled[labels[i]].append(name)\n",
      "    i += 1\n",
      "\n",
      "for li in labelled:\n",
      "    for x in li:\n",
      "        print x\n",
      "    print \"\""
     ],
     "language": "python",
     "metadata": {},
     "outputs": [
      {
       "output_type": "stream",
       "stream": "stdout",
       "text": [
        "Counter-Strike: Global Offensive\n",
        "Grand Theft Auto V\n",
        "Football Manager 2015\n",
        "Sid Meier's Civilization V\n",
        "Garry's Mod\n",
        "Warframe\n",
        "Counter-Strike\n",
        "Rust\n",
        "H1Z1\n",
        "Unturned\n",
        "Counter-Strike: Source\n",
        "Total War: ROME II - Emperor Edition\n",
        "PAYDAY 2\n",
        "DayZ\n",
        "Europa Universalis IV\n",
        "Killing Floor 2\n",
        "Arma 2: Operation Arrowhead\n",
        "The Binding of Isaac: Rebirth\n",
        "Total War: ATTILA\n",
        "Heroes &amp; Generals\n",
        "FreeStyle2: Street Basketball\n",
        "Company of Heroes 2\n",
        "Mortal Kombat X\n",
        "DARK SOULS II: Scholar of the First Sin\n",
        "Empire: Total War\n",
        "Crusader Kings II\n",
        "Fallout: New Vegas\n",
        "Counter-Strike Nexon: Zombies\n",
        "XCOM: Enemy Unknown\n",
        "Warface\n",
        "Call of Duty: Modern Warfare 2 - Multiplayer\n",
        "PlanetSide 2\n",
        "NBA 2K15\n",
        "Saints Row IV\n",
        "Dark Souls: Prepare to Die Edition\n",
        "Pro Evolution Soccer 2015\n",
        "DARK SOULS II\n",
        "Tom Clancy's Ghost Recon Phantoms - NA\n",
        "Dying Light\n",
        "APB Reloaded\n",
        "Star Wars - Battlefront II\n",
        "Besiege\n",
        "Saints Row: The Third\n",
        "Napoleon: Total War\n",
        "Far Cry 3\n",
        "Borderlands: The Pre-Sequel\n",
        "The Mighty Quest For Epic Loot\n",
        "Call of Duty: World at War\n",
        "\n",
        "Football Manager 2014\n",
        "Call of Duty: Advanced Warfare - Multiplayer\n",
        "Call of Duty: Black Ops II - Multiplayer\n",
        "Tom Clancy's Ghost Recon Phantoms - EU\n",
        "Call of Duty: Modern Warfare 3 - Multiplayer\n",
        "Total War: SHOGUN 2\n",
        "Football Manager 2013\n",
        "Company of Heroes (New Steam Version)\n",
        "Football Manager 2012\n",
        "\n",
        "Dota 2\n",
        "Team Fortress 2\n",
        "The Elder Scrolls V: Skyrim\n",
        "Arma 3\n",
        "War Thunder\n",
        "AdVenture Capitalist\n",
        "Kerbal Space Program\n",
        "Robocraft\n",
        "Cities: Skylines\n",
        "Euro Truck Simulator 2\n",
        "Terraria\n",
        "Left 4 Dead 2\n",
        "Borderlands 2\n",
        "Mount &amp; Blade: Warband\n",
        "Path of Exile\n",
        "7 Days to Die\n",
        "Pillars of Eternity\n",
        "Don't Starve Together Beta\n",
        "Marvel Heroes 2015\n",
        "FINAL FANTASY XIV: A Realm Reborn\n",
        "Age of Empires II: HD Edition\n",
        "Elite: Dangerous\n",
        "Neverwinter\n",
        "Space Engineers\n",
        "Starbound\n",
        "Middle-earth: Shadow of Mordor\n",
        "ArcheAge\n",
        "Farming Simulator 15\n",
        "Block N Load\n",
        "Reign Of Kings\n",
        "The Witcher 2: Assassins of Kings Enhanced Edition\n",
        "Sid Meier's Civilization: Beyond Earth\n",
        "Dungeon Defenders II\n",
        "Star Trek Online\n",
        "Don't Starve\n",
        "Age of Wonders III\n",
        "The Elder Scrolls Online: Tamriel Unlimited\n",
        "BLOCKADE 3D\n",
        "Survarium\n",
        "Endless Legend\n",
        "Transformice\n",
        "Killing Floor\n",
        "\n"
       ]
      }
     ],
     "prompt_number": 33
    },
    {
     "cell_type": "markdown",
     "metadata": {},
     "source": [
      "This clustering yielded impressive results.  There are three different groups the first group shown has a lot of shooting or fighting games, which includes multiplayer.  The second, and smallest, grouping shows the games that had no forum.  The final grouping shows games that have a large emphasis on interacting with the world.  Thus I could see that it was not just a multiplayer aspect that created more hostile environments, there is also an emphasis on interacting with other players as opposed to with the world itself.  And, although these attributes are just for the game this interactio with players seems to be translating to the out-of-game world, specifically the forums."
     ]
    },
    {
     "cell_type": "heading",
     "level": 2,
     "metadata": {},
     "source": [
      "Part 2: Analysis of Hostility in Users"
     ]
    },
    {
     "cell_type": "markdown",
     "metadata": {},
     "source": [
      "My next query was how the users were creating a hostile environment.  Was there a subset of users that were more hostile or were there different groups of characteristics which played a part.  For this analysis I chose to analyze the forum of FINAL FANTASY XIV: A Realm Reborn which is an online game that focuses on the player interaction with the world.\n",
      "\n",
      "I scraped usernames and then associated with those usernames a dictionary which counted the number of times a player had said a certain swear."
     ]
    },
    {
     "cell_type": "code",
     "collapsed": false,
     "input": [
      "def count_user_swears(hrefs, badword, user_swears):\n",
      "    num_hearts = len(badword) #steam uses hearts to replace bad words\n",
      "    swear = \"?\" * num_hearts #and the decoding to ascii replaces these hearts with the same number of question marks\n",
      "    num_pages = 1\n",
      "    \n",
      "    for h in hrefs: # goes through each of the discussion pages\n",
      "        p = 1\n",
      "        soup = get_soup(h)\n",
      "        \n",
      "        num_comments = soup.find(\"div\", {\"class\" : \"forum_paging_summary\"}).text.encode(\"ascii\", \"ignore\").split(\"of\")[1].replace(\"comments\",\"\").replace(\",\",\"\")\n",
      "        num_pages = (int(num_comments)/15) + 1 #15 comments per page, other way's a bitch\n",
      "        #print num_pages\n",
      "        \n",
      "        while p <= num_pages: # goes through the different pages of the discussion pages\n",
      "            \n",
      "            #check for swears in the initiating thread post\n",
      "            head_post = soup.find(\"div\", {\"class\" : \"forum_op\"})\n",
      "            if head_post:\n",
      "                post = head_post.text.encode(\"ascii\", \"replace\")\n",
      "                if swear in post:\n",
      "                    usrname = head_post.find(\"a\", {\"class\" : \"hoverunderline forum_op_author \"}).text.encode(\"ascii\", \"ignore\")\n",
      "                    times = post.count(swear)\n",
      "                    if usrname in user_swears:\n",
      "                        d = user_swears[usrname]\n",
      "                        if badword in d:\n",
      "                            (user_swears[usrname])[badword] += times\n",
      "                        else:\n",
      "                            (user_swears[usrname])[badword] = times\n",
      "                    else:\n",
      "                        user_swears[usrname] = {badword: times}\n",
      "                \n",
      "            #check for swears in the thread comments\n",
      "            comments = soup.findAll(\"div\", {\"class\": \"commentthread_comment_content\"})  \n",
      "            if comments:\n",
      "                for c in comments:\n",
      "                    quotes = c.findAll(\"blockquote\") #remove instances of commenters quoting others-possibly with swears\n",
      "                    if quotes:\n",
      "                        for q in quotes:\n",
      "                            q.extract()\n",
      "\n",
      "                    text = c.find(\"div\", {\"class\": \"commentthread_comment_text\"}).text.encode(\"ascii\", \"replace\")\n",
      "                    if text:\n",
      "                        if (swear in text) | (badword in text):\n",
      "                            times = text.count(swear) if text.count(swear) > text.count(badword) else text.count(badword)\n",
      "                            usrname = c.find(\"bdi\").text.encode(\"ascii\", \"replace\")\n",
      "                            if usrname in user_swears:\n",
      "                                d = user_swears[usrname]\n",
      "                                if badword in d:\n",
      "                                    (user_swears[usrname])[badword] += times\n",
      "                                else:\n",
      "                                    (user_swears[usrname])[badword] = times\n",
      "                            else:\n",
      "                                user_swears[usrname] = {badword: times}\n",
      "                            #print usrname + \" said '\" + badword + \"' \" + str(times) + \" times\"\n",
      "                            \n",
      "            #increment page in discussion and set soup to that of the next page\n",
      "            p += 1\n",
      "            \n",
      "            if p <= num_pages:\n",
      "                next_page = h + \"#p\" + str(p)\n",
      "                soup = get_soup(next_page)\n",
      "            \n",
      "    return user_swears\n",
      "            \n",
      "            \n",
      "#find_discussion_pages goes through the results of the query and returns hrefs to all threads where that \n",
      "#particular swear was said\n",
      "def find_discussion_pages(soup, url, badword, user_swears):\n",
      "    hrefs = []\n",
      "    num_pages = 0\n",
      "    p = 1\n",
      "    base_url = url + \"&p=\"\n",
      "    \n",
      "    #find all pages in the result\n",
      "    page_nums = soup.findAll(\"a\", {\"class\": \"pagelink\"})\n",
      "    if page_nums:\n",
      "        for page in page_nums:\n",
      "            if page.text.replace(\",\", \"\") > num_pages:\n",
      "                num_pages = int(page.text.replace(\",\",\"\"))\n",
      "                \n",
      "    #for each page in result, find all threads that fulfill the query\n",
      "    url = base_url + str(p)\n",
      "    while p <= num_pages:\n",
      "        threads = soup.findAll(\"a\", {\"class\": \"forum_topic_overlay\"})\n",
      "        if threads:\n",
      "            for t in threads:\n",
      "                hrefs.append(t.get('href'))\n",
      "        p += 1\n",
      "        url = base_url + str(p)\n",
      "        soup = get_soup(url)\n",
      "        \n",
      "    if len(hrefs) > 0:\n",
      "        user_swears = count_user_swears(hrefs, badword, user_swears)\n",
      "    return user_swears\n",
      "\n",
      "def get_all_forum_swears(app):\n",
      "    user_swears = {}\n",
      "    for word in badwords:\n",
      "        print word\n",
      "        forum_url = \"http://steamcommunity.com/app/\" + str(app) + \"/discussions/search/?include_deleted=1&q=\" + word\n",
      "        soup = get_soup(forum_url)\n",
      "        user_swears = find_discussion_pages(soup, forum_url, word, user_swears)\n",
      "    return user_swears"
     ],
     "language": "python",
     "metadata": {},
     "outputs": [],
     "prompt_number": 34
    },
    {
     "cell_type": "code",
     "collapsed": false,
     "input": [
      "ffxiv = get_all_forum_swears(39210)"
     ],
     "language": "python",
     "metadata": {},
     "outputs": [
      {
       "output_type": "stream",
       "stream": "stdout",
       "text": [
        "shit\n",
        "piss"
       ]
      },
      {
       "output_type": "stream",
       "stream": "stdout",
       "text": [
        "\n",
        "fuck"
       ]
      },
      {
       "output_type": "stream",
       "stream": "stdout",
       "text": [
        "\n",
        "cunt"
       ]
      },
      {
       "output_type": "stream",
       "stream": "stdout",
       "text": [
        "\n",
        "cock"
       ]
      },
      {
       "output_type": "stream",
       "stream": "stdout",
       "text": [
        "\n",
        "dick"
       ]
      },
      {
       "output_type": "stream",
       "stream": "stdout",
       "text": [
        "\n",
        "fag"
       ]
      },
      {
       "output_type": "stream",
       "stream": "stdout",
       "text": [
        "\n",
        "troll"
       ]
      },
      {
       "output_type": "stream",
       "stream": "stdout",
       "text": [
        "\n",
        "nigger"
       ]
      },
      {
       "output_type": "stream",
       "stream": "stdout",
       "text": [
        "\n",
        "pussy"
       ]
      },
      {
       "output_type": "stream",
       "stream": "stdout",
       "text": [
        "\n",
        "ass"
       ]
      },
      {
       "output_type": "stream",
       "stream": "stdout",
       "text": [
        "\n"
       ]
      }
     ],
     "prompt_number": 35
    },
    {
     "cell_type": "markdown",
     "metadata": {},
     "source": [
      "After I gathered all of the information, I processed the data similarly to the way I processed the number for each swear said in a particular game."
     ]
    },
    {
     "cell_type": "code",
     "collapsed": false,
     "input": [
      "userlist = [] # list of lists of swears counts\n",
      "usernames = [] # a list for keeping track of usernames (helps to keep track of order)\n",
      "for usrnm in ffxiv:\n",
      "    entry = []\n",
      "    usernames.append(usrnm)\n",
      "    swears = ffxiv[usrnm]\n",
      "    for word in badwords:\n",
      "        if word in swears:\n",
      "            entry.append(swears[word])\n",
      "        else:\n",
      "            entry.append(0)\n",
      "    userlist.append(entry)\n",
      "npuser = np.array(userlist)\n",
      "userdata = pd.DataFrame(npuser, columns = badwords)"
     ],
     "language": "python",
     "metadata": {},
     "outputs": [],
     "prompt_number": 36
    },
    {
     "cell_type": "markdown",
     "metadata": {},
     "source": [
      "I then tested the hypothesis that there were several types of gamers that commented, possibly providing different swear patterns and contributing differently to the makeup of a hostile environment"
     ]
    },
    {
     "cell_type": "code",
     "collapsed": false,
     "input": [
      "error = np.zeros(20)\n",
      "error[0] = 0;\n",
      "for k in range(1,20):\n",
      "    kmeans = KMeans(init='k-means++', n_clusters=k, n_init=20)\n",
      "    kmeans.fit_predict(userdata)\n",
      "    error[k] = kmeans.inertia_\n",
      "\n",
      "plt.plot(range(1,len(error)),error[1:])\n",
      "plt.xlabel('Number of clusters')\n",
      "plt.ylabel('Error')"
     ],
     "language": "python",
     "metadata": {},
     "outputs": [
      {
       "metadata": {},
       "output_type": "pyout",
       "prompt_number": 37,
       "text": [
        "<matplotlib.text.Text at 0x1fd17be0>"
       ]
      },
      {
       "metadata": {},
       "output_type": "display_data",
       "png": "[encoded data removed]",
       "text": [
        "<matplotlib.figure.Figure at 0x20714780>"
       ]
      }
     ],
     "prompt_number": 37
    },
    {
     "cell_type": "markdown",
     "metadata": {},
     "source": [
      "Unfortunately, there did not seem to be an optimum clustering so I tested my second hypotheses which was that some users just swear more than others and are therefore louder and contribute more to a hostile environment."
     ]
    },
    {
     "cell_type": "code",
     "collapsed": false,
     "input": [
      "swearsum = []\n",
      "i = 0\n",
      "while i < len(usernames):\n",
      "    swearsum.append(sum(userlist[i]))\n",
      "    i += 1"
     ],
     "language": "python",
     "metadata": {},
     "outputs": [],
     "prompt_number": 38
    },
    {
     "cell_type": "code",
     "collapsed": false,
     "input": [
      "swearsum.sort()\n",
      "plt.bar(range(len(usernames)), swearsum)\n",
      "plt.show()"
     ],
     "language": "python",
     "metadata": {},
     "outputs": [
      {
       "metadata": {},
       "output_type": "display_data",
       "png": "[encoded data removed]",
       "text": [
        "<matplotlib.figure.Figure at 0x20a439e8>"
       ]
      }
     ],
     "prompt_number": 39
    },
    {
     "cell_type": "markdown",
     "metadata": {},
     "source": [
      "The above plot proves my point.  There are truly a few players that create a hostile environment for all.  The reason people are unaware that the hostile players are such a small portion is because the players who swear the most are the loudest and therefore take up most of a single player's interaction"
     ]
    },
    {
     "cell_type": "markdown",
     "metadata": {},
     "source": [
      "My findings allows me to build off of Bartle's studies.  Bartle noted that a game which encouraged interaction between players would result in Socializer players.  The question I attempted to answer was whether these games breed or attract these players.  In the clustering there were outlier games in each cluster.  In the nicer forum cluster we found games that were purely multiplayer and focused on team interaction and in the meaner cluster there were games that focused a lot on world interaction without other human players.  It is true that the clustering may have been incorrect but I believe that the conclusion to my findings is that a game that encourages interaction with other players will attract a toxic/hostile players but that player is a small percentage of a whole.  A forum is not defined by its genre but it is influenced by it, thus it is the hostile player that creates a hostile environment and not a hostile game that shapes its players."
     ]
    },
    {
     "cell_type": "code",
     "collapsed": false,
     "input": [
      "# Code for setting the style of the notebook\n",
      "from IPython.core.display import HTML\n",
      "def css_styling():\n",
      "    styles = open(\"../../theme/custom.css\", \"r\").read()\n",
      "    return HTML(styles)\n",
      "css_styling()"
     ],
     "language": "python",
     "metadata": {},
     "outputs": [
      {
       "html": [
        "<link href='http://fonts.googleapis.com/css?family=EB+Garamond' rel='stylesheet' type='text/css'>\n",
        "<link href='http://fonts.googleapis.com/css?family=Alegreya+Sans:100,300,400,500,700,800,900,100italic,300italic,400italic,500italic,700italic,800italic,900italic' rel='stylesheet' type='text/css'>\n",
        "<link href='http://fonts.googleapis.com/css?family=Source+Code+Pro:300,400' rel='stylesheet' type='text/css'>\n",
        "<style>\n",
        "    @font-face {\n",
        "        font-family: \"Computer Modern\";\n",
        "        src: url('http://mirrors.ctan.org/fonts/cm-unicode/fonts/otf/cmunss.otf');\n",
        "    }\n",
        "    .code_cell {\n",
        "        width: 105ex !important ;\n",
        "        margin-bottom: 15px !important;\n",
        "    }\n",
        "    div.cell {\n",
        "        margin-left: auto;\n",
        "        margin-right: auto;\n",
        "        width: 70%;\n",
        "    }    \n",
        "    div.cell.selected {\n",
        "        border: thin rgba(171, 171, 171, 0.5) dashed;\n",
        "    }\n",
        "    h1 {\n",
        "        font-family: 'Alegreya Sans', sans-serif;\n",
        "    }\n",
        "    h2 {\n",
        "        font-family: 'EB Garamond', serif;\n",
        "    }\n",
        "    h3 {\n",
        "        font-family: 'EB Garamond', serif;\n",
        "        margin-top:12px;\n",
        "        margin-bottom: 3px;\n",
        "    }\n",
        "    h4 {\n",
        "        font-family: 'EB Garamond', serif;\n",
        "    }\n",
        "    h5 {\n",
        "        font-family: 'Alegreya Sans', sans-serif;\n",
        "    }\n",
        "    div.text_cell_render {\n",
        "        font-family: 'EB Garamond',Computer Modern, \"Helvetica Neue\", Arial, Helvetica, Geneva, sans-serif;\n",
        "        line-height: 145%;\n",
        "        font-size: 140%;\n",
        "    }\n",
        "    div.input_area {\n",
        "        border-color: rgba(0,0,0,0.10) !important;\n",
        "        background: #fafafa;\n",
        "    }\n",
        "    .CodeMirror {\n",
        "            font-family: \"Source Code Pro\";\n",
        "            font-size: 90%;\n",
        "    }\n",
        "    .prompt {\n",
        "        display: None;\n",
        "    }\n",
        "    .output {\n",
        "        padding-left: 50px;\n",
        "        padding-top: 5px;\n",
        "    }\n",
        "    .output_wrapper {\n",
        "        padding-left: 5px;\n",
        "        padding-top: inherit;\n",
        "    }\n",
        "    div.output_scroll {\n",
        "        width: inherit;\n",
        "    }\n",
        "    .inner_cell {\n",
        "        padding-left: 5px;\n",
        "    }\n",
        "    .text_cell_render h1 {\n",
        "        font-weight: 200;\n",
        "        font-size: 50pt;\n",
        "        line-height: 100%;\n",
        "        color:#CD2305;\n",
        "        margin-bottom: 0.5em;\n",
        "        margin-top: 0.5em;\n",
        "        display: block;\n",
        "    }\n",
        "    .text_cell_render h5 {\n",
        "        font-weight: 300;\n",
        "        font-size: 16pt;\n",
        "        color: #CD2305;\n",
        "        font-style: italic;\n",
        "        margin-bottom: .5em;\n",
        "        margin-top: 0.5em;\n",
        "        display: block;\n",
        "    }\n",
        "    .warning {\n",
        "        color: rgb( 240, 20, 20 )\n",
        "        }  \n",
        "</style>\n",
        "<script>\n",
        "    MathJax.Hub.Config({\n",
        "                        TeX: {\n",
        "                           extensions: [\"AMSmath.js\"]\n",
        "                           },\n",
        "                tex2jax: {\n",
        "                    inlineMath: [ ['$','$'], [\"\\\\(\",\"\\\\)\"] ],\n",
        "                    displayMath: [ ['$$','$$'], [\"\\\\[\",\"\\\\]\"] ]\n",
        "                },\n",
        "                displayAlign: 'center', // Change this to 'center' to center equations.\n",
        "                \"HTML-CSS\": {\n",
        "                    styles: {'.MathJax_Display': {\"margin\": 4}}\n",
        "                }\n",
        "        });\n",
        "</script>"
       ],
       "metadata": {},
       "output_type": "pyout",
       "prompt_number": 40,
       "text": [
        "<IPython.core.display.HTML at 0x1f26ddd8>"
       ]
      }
     ],
     "prompt_number": 40
    },
    {
     "cell_type": "code",
     "collapsed": false,
     "input": [],
     "language": "python",
     "metadata": {},
     "outputs": []
    }
   ],
   "metadata": {}
  }
 ]
}